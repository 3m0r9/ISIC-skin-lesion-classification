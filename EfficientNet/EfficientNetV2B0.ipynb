{
 "cells": [
  {
   "cell_type": "code",
   "id": "f458e9f6",
   "metadata": {
    "_cell_guid": "b1076dfc-b9ad-4769-8c92-a6c4dae69d19",
    "_uuid": "8f2839f25d086af736a60e9eeb907d3b93b6e0e5",
    "execution": {
     "iopub.execute_input": "2024-05-18T16:42:35.964423Z",
     "iopub.status.busy": "2024-05-18T16:42:35.964073Z",
     "iopub.status.idle": "2024-05-18T16:42:48.203120Z",
     "shell.execute_reply": "2024-05-18T16:42:48.202289Z"
    },
    "papermill": {
     "duration": 12.254861,
     "end_time": "2024-05-18T16:42:48.205467",
     "exception": false,
     "start_time": "2024-05-18T16:42:35.950606",
     "status": "completed"
    },
    "tags": [],
    "ExecuteTime": {
     "end_time": "2024-09-28T19:03:34.955919Z",
     "start_time": "2024-09-28T19:03:31.319862Z"
    }
   },
   "source": [
    "import os\n",
    "import keras\n",
    "import tensorflow as tf\n",
    "\n",
    "import pandas as pd\n",
    "import numpy as np\n",
    "\n",
    "import matplotlib.pyplot as plt\n",
    "from sklearn.preprocessing import StandardScaler, LabelEncoder\n",
    "from sklearn.model_selection import train_test_split"
   ],
   "outputs": [],
   "execution_count": 1
  },
  {
   "cell_type": "markdown",
   "id": "135eb1f1",
   "metadata": {
    "papermill": {
     "duration": 0.010706,
     "end_time": "2024-05-18T16:42:48.227545",
     "exception": false,
     "start_time": "2024-05-18T16:42:48.216839",
     "status": "completed"
    },
    "tags": []
   },
   "source": [
    "# Configuration"
   ]
  },
  {
   "cell_type": "code",
   "id": "f535406a",
   "metadata": {
    "execution": {
     "iopub.execute_input": "2024-05-18T16:42:48.251340Z",
     "iopub.status.busy": "2024-05-18T16:42:48.250677Z",
     "iopub.status.idle": "2024-05-18T16:42:48.257117Z",
     "shell.execute_reply": "2024-05-18T16:42:48.256265Z"
    },
    "papermill": {
     "duration": 0.020741,
     "end_time": "2024-05-18T16:42:48.259183",
     "exception": false,
     "start_time": "2024-05-18T16:42:48.238442",
     "status": "completed"
    },
    "tags": [],
    "ExecuteTime": {
     "end_time": "2024-09-28T19:03:34.971989Z",
     "start_time": "2024-09-28T19:03:34.960138Z"
    }
   },
   "source": [
    "class CFG:\n",
    "    # General settings\n",
    "    verbose = 1  # Verbosity\n",
    "    seed = 42  # Random seed\n",
    "    preset = \"efficientnetv2_b0_imagenet\"  # Name of pretrained classifier\n",
    "    image_size = (224, 224)  # Input image size\n",
    "\n",
    "    # Training settings\n",
    "    batch_size = 96  # Batch size\n",
    "    lr_mode = \"cos\"  # LR scheduler mode from one of \"cos\", \"step\", \"exp\"\n",
    "    drop_remainder = True  # Drop incomplete batches\n",
    "\n",
    "    # Dataset settings\n",
    "    num_folds = 5  # Number of folds to split the dataset\n",
    "    fold = 0  # Which fold to set as validation data\n",
    "    class_names = ['Malignant' , 'Benign',]\n",
    "    num_classes = 1\n",
    "    epochs = 50"
   ],
   "outputs": [],
   "execution_count": 2
  },
  {
   "cell_type": "code",
   "id": "f5604836",
   "metadata": {
    "execution": {
     "iopub.execute_input": "2024-05-18T16:42:48.283879Z",
     "iopub.status.busy": "2024-05-18T16:42:48.283114Z",
     "iopub.status.idle": "2024-05-18T16:42:48.287536Z",
     "shell.execute_reply": "2024-05-18T16:42:48.286705Z"
    },
    "papermill": {
     "duration": 0.019281,
     "end_time": "2024-05-18T16:42:48.289394",
     "exception": false,
     "start_time": "2024-05-18T16:42:48.270113",
     "status": "completed"
    },
    "tags": [],
    "ExecuteTime": {
     "end_time": "2024-09-28T19:03:35.248966Z",
     "start_time": "2024-09-28T19:03:35.234979Z"
    }
   },
   "source": [
    "tf.random.set_seed(CFG.seed)"
   ],
   "outputs": [],
   "execution_count": 3
  },
  {
   "cell_type": "markdown",
   "id": "f8d45a6a",
   "metadata": {
    "papermill": {
     "duration": 0.010811,
     "end_time": "2024-05-18T16:42:48.311251",
     "exception": false,
     "start_time": "2024-05-18T16:42:48.300440",
     "status": "completed"
    },
    "tags": []
   },
   "source": [
    "# Load Dataset"
   ]
  },
  {
   "cell_type": "code",
   "id": "86009ced",
   "metadata": {
    "execution": {
     "iopub.execute_input": "2024-05-18T16:42:48.362869Z",
     "iopub.status.busy": "2024-05-18T16:42:48.362575Z",
     "iopub.status.idle": "2024-05-18T16:42:48.582906Z",
     "shell.execute_reply": "2024-05-18T16:42:48.581898Z"
    },
    "papermill": {
     "duration": 0.234183,
     "end_time": "2024-05-18T16:42:48.585014",
     "exception": false,
     "start_time": "2024-05-18T16:42:48.350831",
     "status": "completed"
    },
    "tags": [],
    "ExecuteTime": {
     "end_time": "2024-09-28T19:09:19.161365Z",
     "start_time": "2024-09-28T19:09:19.099599Z"
    }
   },
   "source": [
    "metadata = pd.read_csv(\"C:/Users/IMRAN/Partion 2/UNHAS/MKPK/KP/WEEK3/Dataset/ISIC_2019_Training_Metadata.csv\")\n",
    "ground_truth = pd.read_csv(\"C:/Users/IMRAN/Partion 2/UNHAS/MKPK/KP/WEEK3/Dataset/ISIC_2019_Training_GroundTruth.csv\")\n",
    "# Concatenate the two DataFrames based on the 'image' column\n",
    "merge_df = pd.merge(ground_truth, metadata, on='image').drop('lesion_id', axis=1)\n",
    "merge_df['target'] = merge_df[['MEL', 'BCC', 'AK', 'SCC']].sum(axis=1) # 1 for Malignant\n",
    "diagnosis_map = {0: 'benign', 1: 'malignant'}\n",
    "merge_df['diagnosis'] = merge_df['target'].map(diagnosis_map)\n",
    "df = merge_df.loc[:, ['image', 'target', 'diagnosis']]\n",
    "df['images'] = f'C:/Users/IMRAN/Partion 2/UNHAS/MKPK/KP/WEEK3/Dataset/ISIC_2019_Training_Input/' + df['image'] + '.jpg'\n",
    "# data['anatom_site_general'] = data['anatom_site_general'].replace(['lateral torso', 'anterior torso', 'posterior torso'], 'torso')\n",
    "df.head()"
   ],
   "outputs": [
    {
     "data": {
      "text/plain": [
       "          image  target  diagnosis  \\\n",
       "0  ISIC_0000000     0.0     benign   \n",
       "1  ISIC_0000001     0.0     benign   \n",
       "2  ISIC_0000002     1.0  malignant   \n",
       "3  ISIC_0000003     0.0     benign   \n",
       "4  ISIC_0000004     1.0  malignant   \n",
       "\n",
       "                                              images  \n",
       "0  C:/Users/IMRAN/Partion 2/UNHAS/MKPK/KP/WEEK3/D...  \n",
       "1  C:/Users/IMRAN/Partion 2/UNHAS/MKPK/KP/WEEK3/D...  \n",
       "2  C:/Users/IMRAN/Partion 2/UNHAS/MKPK/KP/WEEK3/D...  \n",
       "3  C:/Users/IMRAN/Partion 2/UNHAS/MKPK/KP/WEEK3/D...  \n",
       "4  C:/Users/IMRAN/Partion 2/UNHAS/MKPK/KP/WEEK3/D...  "
      ],
      "text/html": [
       "<div>\n",
       "<style scoped>\n",
       "    .dataframe tbody tr th:only-of-type {\n",
       "        vertical-align: middle;\n",
       "    }\n",
       "\n",
       "    .dataframe tbody tr th {\n",
       "        vertical-align: top;\n",
       "    }\n",
       "\n",
       "    .dataframe thead th {\n",
       "        text-align: right;\n",
       "    }\n",
       "</style>\n",
       "<table border=\"1\" class=\"dataframe\">\n",
       "  <thead>\n",
       "    <tr style=\"text-align: right;\">\n",
       "      <th></th>\n",
       "      <th>image</th>\n",
       "      <th>target</th>\n",
       "      <th>diagnosis</th>\n",
       "      <th>images</th>\n",
       "    </tr>\n",
       "  </thead>\n",
       "  <tbody>\n",
       "    <tr>\n",
       "      <th>0</th>\n",
       "      <td>ISIC_0000000</td>\n",
       "      <td>0.0</td>\n",
       "      <td>benign</td>\n",
       "      <td>C:/Users/IMRAN/Partion 2/UNHAS/MKPK/KP/WEEK3/D...</td>\n",
       "    </tr>\n",
       "    <tr>\n",
       "      <th>1</th>\n",
       "      <td>ISIC_0000001</td>\n",
       "      <td>0.0</td>\n",
       "      <td>benign</td>\n",
       "      <td>C:/Users/IMRAN/Partion 2/UNHAS/MKPK/KP/WEEK3/D...</td>\n",
       "    </tr>\n",
       "    <tr>\n",
       "      <th>2</th>\n",
       "      <td>ISIC_0000002</td>\n",
       "      <td>1.0</td>\n",
       "      <td>malignant</td>\n",
       "      <td>C:/Users/IMRAN/Partion 2/UNHAS/MKPK/KP/WEEK3/D...</td>\n",
       "    </tr>\n",
       "    <tr>\n",
       "      <th>3</th>\n",
       "      <td>ISIC_0000003</td>\n",
       "      <td>0.0</td>\n",
       "      <td>benign</td>\n",
       "      <td>C:/Users/IMRAN/Partion 2/UNHAS/MKPK/KP/WEEK3/D...</td>\n",
       "    </tr>\n",
       "    <tr>\n",
       "      <th>4</th>\n",
       "      <td>ISIC_0000004</td>\n",
       "      <td>1.0</td>\n",
       "      <td>malignant</td>\n",
       "      <td>C:/Users/IMRAN/Partion 2/UNHAS/MKPK/KP/WEEK3/D...</td>\n",
       "    </tr>\n",
       "  </tbody>\n",
       "</table>\n",
       "</div>"
      ]
     },
     "execution_count": 10,
     "metadata": {},
     "output_type": "execute_result"
    }
   ],
   "execution_count": 10
  },
  {
   "cell_type": "code",
   "id": "efbab28c",
   "metadata": {
    "execution": {
     "iopub.execute_input": "2024-05-18T16:42:48.609369Z",
     "iopub.status.busy": "2024-05-18T16:42:48.608595Z",
     "iopub.status.idle": "2024-05-18T16:42:49.131101Z",
     "shell.execute_reply": "2024-05-18T16:42:49.130131Z"
    },
    "papermill": {
     "duration": 0.53747,
     "end_time": "2024-05-18T16:42:49.133696",
     "exception": false,
     "start_time": "2024-05-18T16:42:48.596226",
     "status": "completed"
    },
    "tags": [],
    "ExecuteTime": {
     "end_time": "2024-09-28T19:09:20.709237Z",
     "start_time": "2024-09-28T19:09:20.598846Z"
    }
   },
   "source": [
    "# @title diagnosis\n",
    "\n",
    "import seaborn as sns\n",
    "df.groupby('diagnosis').size().plot(kind='barh', color=sns.palettes.mpl_palette('Dark2'))\n",
    "plt.gca().spines[['top', 'right',]].set_visible(False)"
   ],
   "outputs": [
    {
     "data": {
      "text/plain": [
       "<Figure size 640x480 with 1 Axes>"
      ],
      "image/png": "[encoded data removed]"
     },
     "metadata": {},
     "output_type": "display_data"
    }
   ],
   "execution_count": 11
  },
  {
   "cell_type": "code",
   "id": "1e2c7cb2",
   "metadata": {
    "execution": {
     "iopub.execute_input": "2024-05-18T16:42:49.158380Z",
     "iopub.status.busy": "2024-05-18T16:42:49.158043Z",
     "iopub.status.idle": "2024-05-18T16:42:51.900290Z",
     "shell.execute_reply": "2024-05-18T16:42:51.899464Z"
    },
    "papermill": {
     "duration": 2.757388,
     "end_time": "2024-05-18T16:42:51.902637",
     "exception": false,
     "start_time": "2024-05-18T16:42:49.145249",
     "status": "completed"
    },
    "tags": [],
    "ExecuteTime": {
     "end_time": "2024-09-28T19:09:21.227085Z",
     "start_time": "2024-09-28T19:09:21.123804Z"
    }
   },
   "source": [
    "# Split the dataset into features and target\n",
    "X = df[[\"images\"]]\n",
    "y = df[\"target\"]\n",
    "\n",
    "# Convert target values to float32\n",
    "y = y.astype('float32')\n",
    "\n",
    "# Split the dataset into train and test sets\n",
    "X_train, X_test, y_train, y_test = train_test_split(X, y, test_size=0.4, random_state=42, stratify=y)\n",
    "X, y = X_test, y_test\n",
    "X_validation, X_test, y_validation, y_test = train_test_split(X, y, test_size=0.5, random_state=42, stratify=y)\n",
    "\n",
    "# Create a TensorFlow dataset from the preprocessed data\n",
    "def load_and_preprocess_image(image_path):\n",
    "    # Read and preprocess image\n",
    "    image = tf.io.read_file(image_path)\n",
    "    image = tf.image.decode_jpeg(image, channels=3)\n",
    "    image = tf.image.resize(image, CFG.image_size)  # adjust size as needed\n",
    "    return image\n",
    "\n",
    "def create_tf_dataset(X, y, batch_size=32, shuffle=True,repeat =True):\n",
    "    image_paths = X['images'].tolist()\n",
    "    X.drop('images',axis=1,inplace=True)\n",
    "    dataset = tf.data.Dataset.from_tensor_slices((image_paths, y))\n",
    "\n",
    "    if shuffle:\n",
    "        dataset = dataset.shuffle(buffer_size=len(X))\n",
    "\n",
    "    # Read and preprocess images, include them in the batch\n",
    "    def load_image(image_path, label):\n",
    "        image = load_and_preprocess_image(image_path)\n",
    "        return image, label\n",
    "\n",
    "    dataset = dataset.map(load_image, num_parallel_calls=tf.data.experimental.AUTOTUNE)\n",
    "    dataset = dataset.batch(batch_size)\n",
    "    return dataset\n",
    "\n",
    "batch_size = CFG.batch_size\n",
    "train_dataset = create_tf_dataset(X_train, y_train, batch_size=batch_size)\n",
    "validation_dataset = create_tf_dataset(X_validation, y_validation, batch_size=batch_size, shuffle=False)\n",
    "test_dataset = create_tf_dataset(X_test, y_test, batch_size=batch_size, shuffle=False)"
   ],
   "outputs": [],
   "execution_count": 12
  },
  {
   "cell_type": "markdown",
   "id": "9d17d5ae",
   "metadata": {
    "papermill": {
     "duration": 0.011291,
     "end_time": "2024-05-18T16:42:51.925997",
     "exception": false,
     "start_time": "2024-05-18T16:42:51.914706",
     "status": "completed"
    },
    "tags": []
   },
   "source": [
    "# Setup base model (EfficientNet)"
   ]
  },
  {
   "cell_type": "code",
   "id": "8e142a8e",
   "metadata": {
    "execution": {
     "iopub.execute_input": "2024-05-18T16:42:51.950573Z",
     "iopub.status.busy": "2024-05-18T16:42:51.950224Z",
     "iopub.status.idle": "2024-05-18T16:42:51.954673Z",
     "shell.execute_reply": "2024-05-18T16:42:51.953814Z"
    },
    "papermill": {
     "duration": 0.01921,
     "end_time": "2024-05-18T16:42:51.956589",
     "exception": false,
     "start_time": "2024-05-18T16:42:51.937379",
     "status": "completed"
    },
    "tags": [],
    "ExecuteTime": {
     "end_time": "2024-09-28T19:09:21.558339Z",
     "start_time": "2024-09-28T19:09:21.538901Z"
    }
   },
   "source": [
    "preprocess_input = tf.keras.applications.efficientnet_v2.preprocess_input"
   ],
   "outputs": [],
   "execution_count": 13
  },
  {
   "cell_type": "code",
   "id": "12441898",
   "metadata": {
    "execution": {
     "iopub.execute_input": "2024-05-18T16:42:51.981001Z",
     "iopub.status.busy": "2024-05-18T16:42:51.980684Z",
     "iopub.status.idle": "2024-05-18T16:42:56.338198Z",
     "shell.execute_reply": "2024-05-18T16:42:56.337283Z"
    },
    "papermill": {
     "duration": 4.379897,
     "end_time": "2024-05-18T16:42:56.348167",
     "exception": false,
     "start_time": "2024-05-18T16:42:51.968270",
     "status": "completed"
    },
    "tags": [],
    "ExecuteTime": {
     "end_time": "2024-09-28T19:09:23.028391Z",
     "start_time": "2024-09-28T19:09:21.627983Z"
    }
   },
   "source": [
    "# Create the base model from the pre-trained model EfficientNet V2\n",
    "input_shape = CFG.image_size + (3,)\n",
    "base_model = tf.keras.applications.EfficientNetV2B0(input_shape=input_shape,\n",
    "                                                    include_top=False,\n",
    "                                                    pooling=\"avg\",\n",
    "                                                    weights='imagenet')\n",
    "base_model.trainable = False\n",
    "\n",
    "# Let's take a look at the base model architecture\n",
    "base_model.summary()"
   ],
   "outputs": [
    {
     "name": "stdout",
     "output_type": "stream",
     "text": [
      "Model: \"efficientnetv2-b0\"\n",
      "__________________________________________________________________________________________________\n",
      " Layer (type)                   Output Shape         Param #     Connected to                     \n",
      "==================================================================================================\n",
      " input_2 (InputLayer)           [(None, 224, 224, 3  0           []                               \n",
      "                                )]                                                                \n",
      "                                                                                                  \n",
      " rescaling_1 (Rescaling)        (None, 224, 224, 3)  0           ['input_2[0][0]']                \n",
      "                                                                                                  \n",
      " normalization_1 (Normalization  (None, 224, 224, 3)  0          ['rescaling_1[0][0]']            \n",
      " )                                                                                                \n",
      "                                                                                                  \n",
      " stem_conv (Conv2D)             (None, 112, 112, 32  864         ['normalization_1[0][0]']        \n",
      "                                )                                                                 \n",
      "                                                                                                  \n",
      " stem_bn (BatchNormalization)   (None, 112, 112, 32  128         ['stem_conv[0][0]']              \n",
      "                                )                                                                 \n",
      "                                                                                                  \n",
      " stem_activation (Activation)   (None, 112, 112, 32  0           ['stem_bn[0][0]']                \n",
      "                                )                                                                 \n",
      "                                                                                                  \n",
      " block1a_project_conv (Conv2D)  (None, 112, 112, 16  4608        ['stem_activation[0][0]']        \n",
      "                                )                                                                 \n",
      "                                                                                                  \n",
      " block1a_project_bn (BatchNorma  (None, 112, 112, 16  64         ['block1a_project_conv[0][0]']   \n",
      " lization)                      )                                                                 \n",
      "                                                                                                  \n",
      " block1a_project_activation (Ac  (None, 112, 112, 16  0          ['block1a_project_bn[0][0]']     \n",
      " tivation)                      )                                                                 \n",
      "                                                                                                  \n",
      " block2a_expand_conv (Conv2D)   (None, 56, 56, 64)   9216        ['block1a_project_activation[0][0\n",
      "                                                                 ]']                              \n",
      "                                                                                                  \n",
      " block2a_expand_bn (BatchNormal  (None, 56, 56, 64)  256         ['block2a_expand_conv[0][0]']    \n",
      " ization)                                                                                         \n",
      "                                                                                                  \n",
      " block2a_expand_activation (Act  (None, 56, 56, 64)  0           ['block2a_expand_bn[0][0]']      \n",
      " ivation)                                                                                         \n",
      "                                                                                                  \n",
      " block2a_project_conv (Conv2D)  (None, 56, 56, 32)   2048        ['block2a_expand_activation[0][0]\n",
      "                                                                 ']                               \n",
      "                                                                                                  \n",
      " block2a_project_bn (BatchNorma  (None, 56, 56, 32)  128         ['block2a_project_conv[0][0]']   \n",
      " lization)                                                                                        \n",
      "                                                                                                  \n",
      " block2b_expand_conv (Conv2D)   (None, 56, 56, 128)  36864       ['block2a_project_bn[0][0]']     \n",
      "                                                                                                  \n",
      " block2b_expand_bn (BatchNormal  (None, 56, 56, 128)  512        ['block2b_expand_conv[0][0]']    \n",
      " ization)                                                                                         \n",
      "                                                                                                  \n",
      " block2b_expand_activation (Act  (None, 56, 56, 128)  0          ['block2b_expand_bn[0][0]']      \n",
      " ivation)                                                                                         \n",
      "                                                                                                  \n",
      " block2b_project_conv (Conv2D)  (None, 56, 56, 32)   4096        ['block2b_expand_activation[0][0]\n",
      "                                                                 ']                               \n",
      "                                                                                                  \n",
      " block2b_project_bn (BatchNorma  (None, 56, 56, 32)  128         ['block2b_project_conv[0][0]']   \n",
      " lization)                                                                                        \n",
      "                                                                                                  \n",
      " block2b_drop (Dropout)         (None, 56, 56, 32)   0           ['block2b_project_bn[0][0]']     \n",
      "                                                                                                  \n",
      " block2b_add (Add)              (None, 56, 56, 32)   0           ['block2b_drop[0][0]',           \n",
      "                                                                  'block2a_project_bn[0][0]']     \n",
      "                                                                                                  \n",
      " block3a_expand_conv (Conv2D)   (None, 28, 28, 128)  36864       ['block2b_add[0][0]']            \n",
      "                                                                                                  \n",
      " block3a_expand_bn (BatchNormal  (None, 28, 28, 128)  512        ['block3a_expand_conv[0][0]']    \n",
      " ization)                                                                                         \n",
      "                                                                                                  \n",
      " block3a_expand_activation (Act  (None, 28, 28, 128)  0          ['block3a_expand_bn[0][0]']      \n",
      " ivation)                                                                                         \n",
      "                                                                                                  \n",
      " block3a_project_conv (Conv2D)  (None, 28, 28, 48)   6144        ['block3a_expand_activation[0][0]\n",
      "                                                                 ']                               \n",
      "                                                                                                  \n",
      " block3a_project_bn (BatchNorma  (None, 28, 28, 48)  192         ['block3a_project_conv[0][0]']   \n",
      " lization)                                                                                        \n",
      "                                                                                                  \n",
      " block3b_expand_conv (Conv2D)   (None, 28, 28, 192)  82944       ['block3a_project_bn[0][0]']     \n",
      "                                                                                                  \n",
      " block3b_expand_bn (BatchNormal  (None, 28, 28, 192)  768        ['block3b_expand_conv[0][0]']    \n",
      " ization)                                                                                         \n",
      "                                                                                                  \n",
      " block3b_expand_activation (Act  (None, 28, 28, 192)  0          ['block3b_expand_bn[0][0]']      \n",
      " ivation)                                                                                         \n",
      "                                                                                                  \n",
      " block3b_project_conv (Conv2D)  (None, 28, 28, 48)   9216        ['block3b_expand_activation[0][0]\n",
      "                                                                 ']                               \n",
      "                                                                                                  \n",
      " block3b_project_bn (BatchNorma  (None, 28, 28, 48)  192         ['block3b_project_conv[0][0]']   \n",
      " lization)                                                                                        \n",
      "                                                                                                  \n",
      " block3b_drop (Dropout)         (None, 28, 28, 48)   0           ['block3b_project_bn[0][0]']     \n",
      "                                                                                                  \n",
      " block3b_add (Add)              (None, 28, 28, 48)   0           ['block3b_drop[0][0]',           \n",
      "                                                                  'block3a_project_bn[0][0]']     \n",
      "                                                                                                  \n",
      " block4a_expand_conv (Conv2D)   (None, 28, 28, 192)  9216        ['block3b_add[0][0]']            \n",
      "                                                                                                  \n",
      " block4a_expand_bn (BatchNormal  (None, 28, 28, 192)  768        ['block4a_expand_conv[0][0]']    \n",
      " ization)                                                                                         \n",
      "                                                                                                  \n",
      " block4a_expand_activation (Act  (None, 28, 28, 192)  0          ['block4a_expand_bn[0][0]']      \n",
      " ivation)                                                                                         \n",
      "                                                                                                  \n",
      " block4a_dwconv2 (DepthwiseConv  (None, 14, 14, 192)  1728       ['block4a_expand_activation[0][0]\n",
      " 2D)                                                             ']                               \n",
      "                                                                                                  \n",
      " block4a_bn (BatchNormalization  (None, 14, 14, 192)  768        ['block4a_dwconv2[0][0]']        \n",
      " )                                                                                                \n",
      "                                                                                                  \n",
      " block4a_activation (Activation  (None, 14, 14, 192)  0          ['block4a_bn[0][0]']             \n",
      " )                                                                                                \n",
      "                                                                                                  \n",
      " block4a_se_squeeze (GlobalAver  (None, 192)         0           ['block4a_activation[0][0]']     \n",
      " agePooling2D)                                                                                    \n",
      "                                                                                                  \n",
      " block4a_se_reshape (Reshape)   (None, 1, 1, 192)    0           ['block4a_se_squeeze[0][0]']     \n",
      "                                                                                                  \n",
      " block4a_se_reduce (Conv2D)     (None, 1, 1, 12)     2316        ['block4a_se_reshape[0][0]']     \n",
      "                                                                                                  \n",
      " block4a_se_expand (Conv2D)     (None, 1, 1, 192)    2496        ['block4a_se_reduce[0][0]']      \n",
      "                                                                                                  \n",
      " block4a_se_excite (Multiply)   (None, 14, 14, 192)  0           ['block4a_activation[0][0]',     \n",
      "                                                                  'block4a_se_expand[0][0]']      \n",
      "                                                                                                  \n",
      " block4a_project_conv (Conv2D)  (None, 14, 14, 96)   18432       ['block4a_se_excite[0][0]']      \n",
      "                                                                                                  \n",
      " block4a_project_bn (BatchNorma  (None, 14, 14, 96)  384         ['block4a_project_conv[0][0]']   \n",
      " lization)                                                                                        \n",
      "                                                                                                  \n",
      " block4b_expand_conv (Conv2D)   (None, 14, 14, 384)  36864       ['block4a_project_bn[0][0]']     \n",
      "                                                                                                  \n",
      " block4b_expand_bn (BatchNormal  (None, 14, 14, 384)  1536       ['block4b_expand_conv[0][0]']    \n",
      " ization)                                                                                         \n",
      "                                                                                                  \n",
      " block4b_expand_activation (Act  (None, 14, 14, 384)  0          ['block4b_expand_bn[0][0]']      \n",
      " ivation)                                                                                         \n",
      "                                                                                                  \n",
      " block4b_dwconv2 (DepthwiseConv  (None, 14, 14, 384)  3456       ['block4b_expand_activation[0][0]\n",
      " 2D)                                                             ']                               \n",
      "                                                                                                  \n",
      " block4b_bn (BatchNormalization  (None, 14, 14, 384)  1536       ['block4b_dwconv2[0][0]']        \n",
      " )                                                                                                \n",
      "                                                                                                  \n",
      " block4b_activation (Activation  (None, 14, 14, 384)  0          ['block4b_bn[0][0]']             \n",
      " )                                                                                                \n",
      "                                                                                                  \n",
      " block4b_se_squeeze (GlobalAver  (None, 384)         0           ['block4b_activation[0][0]']     \n",
      " agePooling2D)                                                                                    \n",
      "                                                                                                  \n",
      " block4b_se_reshape (Reshape)   (None, 1, 1, 384)    0           ['block4b_se_squeeze[0][0]']     \n",
      "                                                                                                  \n",
      " block4b_se_reduce (Conv2D)     (None, 1, 1, 24)     9240        ['block4b_se_reshape[0][0]']     \n",
      "                                                                                                  \n",
      " block4b_se_expand (Conv2D)     (None, 1, 1, 384)    9600        ['block4b_se_reduce[0][0]']      \n",
      "                                                                                                  \n",
      " block4b_se_excite (Multiply)   (None, 14, 14, 384)  0           ['block4b_activation[0][0]',     \n",
      "                                                                  'block4b_se_expand[0][0]']      \n",
      "                                                                                                  \n",
      " block4b_project_conv (Conv2D)  (None, 14, 14, 96)   36864       ['block4b_se_excite[0][0]']      \n",
      "                                                                                                  \n",
      " block4b_project_bn (BatchNorma  (None, 14, 14, 96)  384         ['block4b_project_conv[0][0]']   \n",
      " lization)                                                                                        \n",
      "                                                                                                  \n",
      " block4b_drop (Dropout)         (None, 14, 14, 96)   0           ['block4b_project_bn[0][0]']     \n",
      "                                                                                                  \n",
      " block4b_add (Add)              (None, 14, 14, 96)   0           ['block4b_drop[0][0]',           \n",
      "                                                                  'block4a_project_bn[0][0]']     \n",
      "                                                                                                  \n",
      " block4c_expand_conv (Conv2D)   (None, 14, 14, 384)  36864       ['block4b_add[0][0]']            \n",
      "                                                                                                  \n",
      " block4c_expand_bn (BatchNormal  (None, 14, 14, 384)  1536       ['block4c_expand_conv[0][0]']    \n",
      " ization)                                                                                         \n",
      "                                                                                                  \n",
      " block4c_expand_activation (Act  (None, 14, 14, 384)  0          ['block4c_expand_bn[0][0]']      \n",
      " ivation)                                                                                         \n",
      "                                                                                                  \n",
      " block4c_dwconv2 (DepthwiseConv  (None, 14, 14, 384)  3456       ['block4c_expand_activation[0][0]\n",
      " 2D)                                                             ']                               \n",
      "                                                                                                  \n",
      " block4c_bn (BatchNormalization  (None, 14, 14, 384)  1536       ['block4c_dwconv2[0][0]']        \n",
      " )                                                                                                \n",
      "                                                                                                  \n",
      " block4c_activation (Activation  (None, 14, 14, 384)  0          ['block4c_bn[0][0]']             \n",
      " )                                                                                                \n",
      "                                                                                                  \n",
      " block4c_se_squeeze (GlobalAver  (None, 384)         0           ['block4c_activation[0][0]']     \n",
      " agePooling2D)                                                                                    \n",
      "                                                                                                  \n",
      " block4c_se_reshape (Reshape)   (None, 1, 1, 384)    0           ['block4c_se_squeeze[0][0]']     \n",
      "                                                                                                  \n",
      " block4c_se_reduce (Conv2D)     (None, 1, 1, 24)     9240        ['block4c_se_reshape[0][0]']     \n",
      "                                                                                                  \n",
      " block4c_se_expand (Conv2D)     (None, 1, 1, 384)    9600        ['block4c_se_reduce[0][0]']      \n",
      "                                                                                                  \n",
      " block4c_se_excite (Multiply)   (None, 14, 14, 384)  0           ['block4c_activation[0][0]',     \n",
      "                                                                  'block4c_se_expand[0][0]']      \n",
      "                                                                                                  \n",
      " block4c_project_conv (Conv2D)  (None, 14, 14, 96)   36864       ['block4c_se_excite[0][0]']      \n",
      "                                                                                                  \n",
      " block4c_project_bn (BatchNorma  (None, 14, 14, 96)  384         ['block4c_project_conv[0][0]']   \n",
      " lization)                                                                                        \n",
      "                                                                                                  \n",
      " block4c_drop (Dropout)         (None, 14, 14, 96)   0           ['block4c_project_bn[0][0]']     \n",
      "                                                                                                  \n",
      " block4c_add (Add)              (None, 14, 14, 96)   0           ['block4c_drop[0][0]',           \n",
      "                                                                  'block4b_add[0][0]']            \n",
      "                                                                                                  \n",
      " block5a_expand_conv (Conv2D)   (None, 14, 14, 576)  55296       ['block4c_add[0][0]']            \n",
      "                                                                                                  \n",
      " block5a_expand_bn (BatchNormal  (None, 14, 14, 576)  2304       ['block5a_expand_conv[0][0]']    \n",
      " ization)                                                                                         \n",
      "                                                                                                  \n",
      " block5a_expand_activation (Act  (None, 14, 14, 576)  0          ['block5a_expand_bn[0][0]']      \n",
      " ivation)                                                                                         \n",
      "                                                                                                  \n",
      " block5a_dwconv2 (DepthwiseConv  (None, 14, 14, 576)  5184       ['block5a_expand_activation[0][0]\n",
      " 2D)                                                             ']                               \n",
      "                                                                                                  \n",
      " block5a_bn (BatchNormalization  (None, 14, 14, 576)  2304       ['block5a_dwconv2[0][0]']        \n",
      " )                                                                                                \n",
      "                                                                                                  \n",
      " block5a_activation (Activation  (None, 14, 14, 576)  0          ['block5a_bn[0][0]']             \n",
      " )                                                                                                \n",
      "                                                                                                  \n",
      " block5a_se_squeeze (GlobalAver  (None, 576)         0           ['block5a_activation[0][0]']     \n",
      " agePooling2D)                                                                                    \n",
      "                                                                                                  \n",
      " block5a_se_reshape (Reshape)   (None, 1, 1, 576)    0           ['block5a_se_squeeze[0][0]']     \n",
      "                                                                                                  \n",
      " block5a_se_reduce (Conv2D)     (None, 1, 1, 24)     13848       ['block5a_se_reshape[0][0]']     \n",
      "                                                                                                  \n",
      " block5a_se_expand (Conv2D)     (None, 1, 1, 576)    14400       ['block5a_se_reduce[0][0]']      \n",
      "                                                                                                  \n",
      " block5a_se_excite (Multiply)   (None, 14, 14, 576)  0           ['block5a_activation[0][0]',     \n",
      "                                                                  'block5a_se_expand[0][0]']      \n",
      "                                                                                                  \n",
      " block5a_project_conv (Conv2D)  (None, 14, 14, 112)  64512       ['block5a_se_excite[0][0]']      \n",
      "                                                                                                  \n",
      " block5a_project_bn (BatchNorma  (None, 14, 14, 112)  448        ['block5a_project_conv[0][0]']   \n",
      " lization)                                                                                        \n",
      "                                                                                                  \n",
      " block5b_expand_conv (Conv2D)   (None, 14, 14, 672)  75264       ['block5a_project_bn[0][0]']     \n",
      "                                                                                                  \n",
      " block5b_expand_bn (BatchNormal  (None, 14, 14, 672)  2688       ['block5b_expand_conv[0][0]']    \n",
      " ization)                                                                                         \n",
      "                                                                                                  \n",
      " block5b_expand_activation (Act  (None, 14, 14, 672)  0          ['block5b_expand_bn[0][0]']      \n",
      " ivation)                                                                                         \n",
      "                                                                                                  \n",
      " block5b_dwconv2 (DepthwiseConv  (None, 14, 14, 672)  6048       ['block5b_expand_activation[0][0]\n",
      " 2D)                                                             ']                               \n",
      "                                                                                                  \n",
      " block5b_bn (BatchNormalization  (None, 14, 14, 672)  2688       ['block5b_dwconv2[0][0]']        \n",
      " )                                                                                                \n",
      "                                                                                                  \n",
      " block5b_activation (Activation  (None, 14, 14, 672)  0          ['block5b_bn[0][0]']             \n",
      " )                                                                                                \n",
      "                                                                                                  \n",
      " block5b_se_squeeze (GlobalAver  (None, 672)         0           ['block5b_activation[0][0]']     \n",
      " agePooling2D)                                                                                    \n",
      "                                                                                                  \n",
      " block5b_se_reshape (Reshape)   (None, 1, 1, 672)    0           ['block5b_se_squeeze[0][0]']     \n",
      "                                                                                                  \n",
      " block5b_se_reduce (Conv2D)     (None, 1, 1, 28)     18844       ['block5b_se_reshape[0][0]']     \n",
      "                                                                                                  \n",
      " block5b_se_expand (Conv2D)     (None, 1, 1, 672)    19488       ['block5b_se_reduce[0][0]']      \n",
      "                                                                                                  \n",
      " block5b_se_excite (Multiply)   (None, 14, 14, 672)  0           ['block5b_activation[0][0]',     \n",
      "                                                                  'block5b_se_expand[0][0]']      \n",
      "                                                                                                  \n",
      " block5b_project_conv (Conv2D)  (None, 14, 14, 112)  75264       ['block5b_se_excite[0][0]']      \n",
      "                                                                                                  \n",
      " block5b_project_bn (BatchNorma  (None, 14, 14, 112)  448        ['block5b_project_conv[0][0]']   \n",
      " lization)                                                                                        \n",
      "                                                                                                  \n",
      " block5b_drop (Dropout)         (None, 14, 14, 112)  0           ['block5b_project_bn[0][0]']     \n",
      "                                                                                                  \n",
      " block5b_add (Add)              (None, 14, 14, 112)  0           ['block5b_drop[0][0]',           \n",
      "                                                                  'block5a_project_bn[0][0]']     \n",
      "                                                                                                  \n",
      " block5c_expand_conv (Conv2D)   (None, 14, 14, 672)  75264       ['block5b_add[0][0]']            \n",
      "                                                                                                  \n",
      " block5c_expand_bn (BatchNormal  (None, 14, 14, 672)  2688       ['block5c_expand_conv[0][0]']    \n",
      " ization)                                                                                         \n",
      "                                                                                                  \n",
      " block5c_expand_activation (Act  (None, 14, 14, 672)  0          ['block5c_expand_bn[0][0]']      \n",
      " ivation)                                                                                         \n",
      "                                                                                                  \n",
      " block5c_dwconv2 (DepthwiseConv  (None, 14, 14, 672)  6048       ['block5c_expand_activation[0][0]\n",
      " 2D)                                                             ']                               \n",
      "                                                                                                  \n",
      " block5c_bn (BatchNormalization  (None, 14, 14, 672)  2688       ['block5c_dwconv2[0][0]']        \n",
      " )                                                                                                \n",
      "                                                                                                  \n",
      " block5c_activation (Activation  (None, 14, 14, 672)  0          ['block5c_bn[0][0]']             \n",
      " )                                                                                                \n",
      "                                                                                                  \n",
      " block5c_se_squeeze (GlobalAver  (None, 672)         0           ['block5c_activation[0][0]']     \n",
      " agePooling2D)                                                                                    \n",
      "                                                                                                  \n",
      " block5c_se_reshape (Reshape)   (None, 1, 1, 672)    0           ['block5c_se_squeeze[0][0]']     \n",
      "                                                                                                  \n",
      " block5c_se_reduce (Conv2D)     (None, 1, 1, 28)     18844       ['block5c_se_reshape[0][0]']     \n",
      "                                                                                                  \n",
      " block5c_se_expand (Conv2D)     (None, 1, 1, 672)    19488       ['block5c_se_reduce[0][0]']      \n",
      "                                                                                                  \n",
      " block5c_se_excite (Multiply)   (None, 14, 14, 672)  0           ['block5c_activation[0][0]',     \n",
      "                                                                  'block5c_se_expand[0][0]']      \n",
      "                                                                                                  \n",
      " block5c_project_conv (Conv2D)  (None, 14, 14, 112)  75264       ['block5c_se_excite[0][0]']      \n",
      "                                                                                                  \n",
      " block5c_project_bn (BatchNorma  (None, 14, 14, 112)  448        ['block5c_project_conv[0][0]']   \n",
      " lization)                                                                                        \n",
      "                                                                                                  \n",
      " block5c_drop (Dropout)         (None, 14, 14, 112)  0           ['block5c_project_bn[0][0]']     \n",
      "                                                                                                  \n",
      " block5c_add (Add)              (None, 14, 14, 112)  0           ['block5c_drop[0][0]',           \n",
      "                                                                  'block5b_add[0][0]']            \n",
      "                                                                                                  \n",
      " block5d_expand_conv (Conv2D)   (None, 14, 14, 672)  75264       ['block5c_add[0][0]']            \n",
      "                                                                                                  \n",
      " block5d_expand_bn (BatchNormal  (None, 14, 14, 672)  2688       ['block5d_expand_conv[0][0]']    \n",
      " ization)                                                                                         \n",
      "                                                                                                  \n",
      " block5d_expand_activation (Act  (None, 14, 14, 672)  0          ['block5d_expand_bn[0][0]']      \n",
      " ivation)                                                                                         \n",
      "                                                                                                  \n",
      " block5d_dwconv2 (DepthwiseConv  (None, 14, 14, 672)  6048       ['block5d_expand_activation[0][0]\n",
      " 2D)                                                             ']                               \n",
      "                                                                                                  \n",
      " block5d_bn (BatchNormalization  (None, 14, 14, 672)  2688       ['block5d_dwconv2[0][0]']        \n",
      " )                                                                                                \n",
      "                                                                                                  \n",
      " block5d_activation (Activation  (None, 14, 14, 672)  0          ['block5d_bn[0][0]']             \n",
      " )                                                                                                \n",
      "                                                                                                  \n",
      " block5d_se_squeeze (GlobalAver  (None, 672)         0           ['block5d_activation[0][0]']     \n",
      " agePooling2D)                                                                                    \n",
      "                                                                                                  \n",
      " block5d_se_reshape (Reshape)   (None, 1, 1, 672)    0           ['block5d_se_squeeze[0][0]']     \n",
      "                                                                                                  \n",
      " block5d_se_reduce (Conv2D)     (None, 1, 1, 28)     18844       ['block5d_se_reshape[0][0]']     \n",
      "                                                                                                  \n",
      " block5d_se_expand (Conv2D)     (None, 1, 1, 672)    19488       ['block5d_se_reduce[0][0]']      \n",
      "                                                                                                  \n",
      " block5d_se_excite (Multiply)   (None, 14, 14, 672)  0           ['block5d_activation[0][0]',     \n",
      "                                                                  'block5d_se_expand[0][0]']      \n",
      "                                                                                                  \n",
      " block5d_project_conv (Conv2D)  (None, 14, 14, 112)  75264       ['block5d_se_excite[0][0]']      \n",
      "                                                                                                  \n",
      " block5d_project_bn (BatchNorma  (None, 14, 14, 112)  448        ['block5d_project_conv[0][0]']   \n",
      " lization)                                                                                        \n",
      "                                                                                                  \n",
      " block5d_drop (Dropout)         (None, 14, 14, 112)  0           ['block5d_project_bn[0][0]']     \n",
      "                                                                                                  \n",
      " block5d_add (Add)              (None, 14, 14, 112)  0           ['block5d_drop[0][0]',           \n",
      "                                                                  'block5c_add[0][0]']            \n",
      "                                                                                                  \n",
      " block5e_expand_conv (Conv2D)   (None, 14, 14, 672)  75264       ['block5d_add[0][0]']            \n",
      "                                                                                                  \n",
      " block5e_expand_bn (BatchNormal  (None, 14, 14, 672)  2688       ['block5e_expand_conv[0][0]']    \n",
      " ization)                                                                                         \n",
      "                                                                                                  \n",
      " block5e_expand_activation (Act  (None, 14, 14, 672)  0          ['block5e_expand_bn[0][0]']      \n",
      " ivation)                                                                                         \n",
      "                                                                                                  \n",
      " block5e_dwconv2 (DepthwiseConv  (None, 14, 14, 672)  6048       ['block5e_expand_activation[0][0]\n",
      " 2D)                                                             ']                               \n",
      "                                                                                                  \n",
      " block5e_bn (BatchNormalization  (None, 14, 14, 672)  2688       ['block5e_dwconv2[0][0]']        \n",
      " )                                                                                                \n",
      "                                                                                                  \n",
      " block5e_activation (Activation  (None, 14, 14, 672)  0          ['block5e_bn[0][0]']             \n",
      " )                                                                                                \n",
      "                                                                                                  \n",
      " block5e_se_squeeze (GlobalAver  (None, 672)         0           ['block5e_activation[0][0]']     \n",
      " agePooling2D)                                                                                    \n",
      "                                                                                                  \n",
      " block5e_se_reshape (Reshape)   (None, 1, 1, 672)    0           ['block5e_se_squeeze[0][0]']     \n",
      "                                                                                                  \n",
      " block5e_se_reduce (Conv2D)     (None, 1, 1, 28)     18844       ['block5e_se_reshape[0][0]']     \n",
      "                                                                                                  \n",
      " block5e_se_expand (Conv2D)     (None, 1, 1, 672)    19488       ['block5e_se_reduce[0][0]']      \n",
      "                                                                                                  \n",
      " block5e_se_excite (Multiply)   (None, 14, 14, 672)  0           ['block5e_activation[0][0]',     \n",
      "                                                                  'block5e_se_expand[0][0]']      \n",
      "                                                                                                  \n",
      " block5e_project_conv (Conv2D)  (None, 14, 14, 112)  75264       ['block5e_se_excite[0][0]']      \n",
      "                                                                                                  \n",
      " block5e_project_bn (BatchNorma  (None, 14, 14, 112)  448        ['block5e_project_conv[0][0]']   \n",
      " lization)                                                                                        \n",
      "                                                                                                  \n",
      " block5e_drop (Dropout)         (None, 14, 14, 112)  0           ['block5e_project_bn[0][0]']     \n",
      "                                                                                                  \n",
      " block5e_add (Add)              (None, 14, 14, 112)  0           ['block5e_drop[0][0]',           \n",
      "                                                                  'block5d_add[0][0]']            \n",
      "                                                                                                  \n",
      " block6a_expand_conv (Conv2D)   (None, 14, 14, 672)  75264       ['block5e_add[0][0]']            \n",
      "                                                                                                  \n",
      " block6a_expand_bn (BatchNormal  (None, 14, 14, 672)  2688       ['block6a_expand_conv[0][0]']    \n",
      " ization)                                                                                         \n",
      "                                                                                                  \n",
      " block6a_expand_activation (Act  (None, 14, 14, 672)  0          ['block6a_expand_bn[0][0]']      \n",
      " ivation)                                                                                         \n",
      "                                                                                                  \n",
      " block6a_dwconv2 (DepthwiseConv  (None, 7, 7, 672)   6048        ['block6a_expand_activation[0][0]\n",
      " 2D)                                                             ']                               \n",
      "                                                                                                  \n",
      " block6a_bn (BatchNormalization  (None, 7, 7, 672)   2688        ['block6a_dwconv2[0][0]']        \n",
      " )                                                                                                \n",
      "                                                                                                  \n",
      " block6a_activation (Activation  (None, 7, 7, 672)   0           ['block6a_bn[0][0]']             \n",
      " )                                                                                                \n",
      "                                                                                                  \n",
      " block6a_se_squeeze (GlobalAver  (None, 672)         0           ['block6a_activation[0][0]']     \n",
      " agePooling2D)                                                                                    \n",
      "                                                                                                  \n",
      " block6a_se_reshape (Reshape)   (None, 1, 1, 672)    0           ['block6a_se_squeeze[0][0]']     \n",
      "                                                                                                  \n",
      " block6a_se_reduce (Conv2D)     (None, 1, 1, 28)     18844       ['block6a_se_reshape[0][0]']     \n",
      "                                                                                                  \n",
      " block6a_se_expand (Conv2D)     (None, 1, 1, 672)    19488       ['block6a_se_reduce[0][0]']      \n",
      "                                                                                                  \n",
      " block6a_se_excite (Multiply)   (None, 7, 7, 672)    0           ['block6a_activation[0][0]',     \n",
      "                                                                  'block6a_se_expand[0][0]']      \n",
      "                                                                                                  \n",
      " block6a_project_conv (Conv2D)  (None, 7, 7, 192)    129024      ['block6a_se_excite[0][0]']      \n",
      "                                                                                                  \n",
      " block6a_project_bn (BatchNorma  (None, 7, 7, 192)   768         ['block6a_project_conv[0][0]']   \n",
      " lization)                                                                                        \n",
      "                                                                                                  \n",
      " block6b_expand_conv (Conv2D)   (None, 7, 7, 1152)   221184      ['block6a_project_bn[0][0]']     \n",
      "                                                                                                  \n",
      " block6b_expand_bn (BatchNormal  (None, 7, 7, 1152)  4608        ['block6b_expand_conv[0][0]']    \n",
      " ization)                                                                                         \n",
      "                                                                                                  \n",
      " block6b_expand_activation (Act  (None, 7, 7, 1152)  0           ['block6b_expand_bn[0][0]']      \n",
      " ivation)                                                                                         \n",
      "                                                                                                  \n",
      " block6b_dwconv2 (DepthwiseConv  (None, 7, 7, 1152)  10368       ['block6b_expand_activation[0][0]\n",
      " 2D)                                                             ']                               \n",
      "                                                                                                  \n",
      " block6b_bn (BatchNormalization  (None, 7, 7, 1152)  4608        ['block6b_dwconv2[0][0]']        \n",
      " )                                                                                                \n",
      "                                                                                                  \n",
      " block6b_activation (Activation  (None, 7, 7, 1152)  0           ['block6b_bn[0][0]']             \n",
      " )                                                                                                \n",
      "                                                                                                  \n",
      " block6b_se_squeeze (GlobalAver  (None, 1152)        0           ['block6b_activation[0][0]']     \n",
      " agePooling2D)                                                                                    \n",
      "                                                                                                  \n",
      " block6b_se_reshape (Reshape)   (None, 1, 1, 1152)   0           ['block6b_se_squeeze[0][0]']     \n",
      "                                                                                                  \n",
      " block6b_se_reduce (Conv2D)     (None, 1, 1, 48)     55344       ['block6b_se_reshape[0][0]']     \n",
      "                                                                                                  \n",
      " block6b_se_expand (Conv2D)     (None, 1, 1, 1152)   56448       ['block6b_se_reduce[0][0]']      \n",
      "                                                                                                  \n",
      " block6b_se_excite (Multiply)   (None, 7, 7, 1152)   0           ['block6b_activation[0][0]',     \n",
      "                                                                  'block6b_se_expand[0][0]']      \n",
      "                                                                                                  \n",
      " block6b_project_conv (Conv2D)  (None, 7, 7, 192)    221184      ['block6b_se_excite[0][0]']      \n",
      "                                                                                                  \n",
      " block6b_project_bn (BatchNorma  (None, 7, 7, 192)   768         ['block6b_project_conv[0][0]']   \n",
      " lization)                                                                                        \n",
      "                                                                                                  \n",
      " block6b_drop (Dropout)         (None, 7, 7, 192)    0           ['block6b_project_bn[0][0]']     \n",
      "                                                                                                  \n",
      " block6b_add (Add)              (None, 7, 7, 192)    0           ['block6b_drop[0][0]',           \n",
      "                                                                  'block6a_project_bn[0][0]']     \n",
      "                                                                                                  \n",
      " block6c_expand_conv (Conv2D)   (None, 7, 7, 1152)   221184      ['block6b_add[0][0]']            \n",
      "                                                                                                  \n",
      " block6c_expand_bn (BatchNormal  (None, 7, 7, 1152)  4608        ['block6c_expand_conv[0][0]']    \n",
      " ization)                                                                                         \n",
      "                                                                                                  \n",
      " block6c_expand_activation (Act  (None, 7, 7, 1152)  0           ['block6c_expand_bn[0][0]']      \n",
      " ivation)                                                                                         \n",
      "                                                                                                  \n",
      " block6c_dwconv2 (DepthwiseConv  (None, 7, 7, 1152)  10368       ['block6c_expand_activation[0][0]\n",
      " 2D)                                                             ']                               \n",
      "                                                                                                  \n",
      " block6c_bn (BatchNormalization  (None, 7, 7, 1152)  4608        ['block6c_dwconv2[0][0]']        \n",
      " )                                                                                                \n",
      "                                                                                                  \n",
      " block6c_activation (Activation  (None, 7, 7, 1152)  0           ['block6c_bn[0][0]']             \n",
      " )                                                                                                \n",
      "                                                                                                  \n",
      " block6c_se_squeeze (GlobalAver  (None, 1152)        0           ['block6c_activation[0][0]']     \n",
      " agePooling2D)                                                                                    \n",
      "                                                                                                  \n",
      " block6c_se_reshape (Reshape)   (None, 1, 1, 1152)   0           ['block6c_se_squeeze[0][0]']     \n",
      "                                                                                                  \n",
      " block6c_se_reduce (Conv2D)     (None, 1, 1, 48)     55344       ['block6c_se_reshape[0][0]']     \n",
      "                                                                                                  \n",
      " block6c_se_expand (Conv2D)     (None, 1, 1, 1152)   56448       ['block6c_se_reduce[0][0]']      \n",
      "                                                                                                  \n",
      " block6c_se_excite (Multiply)   (None, 7, 7, 1152)   0           ['block6c_activation[0][0]',     \n",
      "                                                                  'block6c_se_expand[0][0]']      \n",
      "                                                                                                  \n",
      " block6c_project_conv (Conv2D)  (None, 7, 7, 192)    221184      ['block6c_se_excite[0][0]']      \n",
      "                                                                                                  \n",
      " block6c_project_bn (BatchNorma  (None, 7, 7, 192)   768         ['block6c_project_conv[0][0]']   \n",
      " lization)                                                                                        \n",
      "                                                                                                  \n",
      " block6c_drop (Dropout)         (None, 7, 7, 192)    0           ['block6c_project_bn[0][0]']     \n",
      "                                                                                                  \n",
      " block6c_add (Add)              (None, 7, 7, 192)    0           ['block6c_drop[0][0]',           \n",
      "                                                                  'block6b_add[0][0]']            \n",
      "                                                                                                  \n",
      " block6d_expand_conv (Conv2D)   (None, 7, 7, 1152)   221184      ['block6c_add[0][0]']            \n",
      "                                                                                                  \n",
      " block6d_expand_bn (BatchNormal  (None, 7, 7, 1152)  4608        ['block6d_expand_conv[0][0]']    \n",
      " ization)                                                                                         \n",
      "                                                                                                  \n",
      " block6d_expand_activation (Act  (None, 7, 7, 1152)  0           ['block6d_expand_bn[0][0]']      \n",
      " ivation)                                                                                         \n",
      "                                                                                                  \n",
      " block6d_dwconv2 (DepthwiseConv  (None, 7, 7, 1152)  10368       ['block6d_expand_activation[0][0]\n",
      " 2D)                                                             ']                               \n",
      "                                                                                                  \n",
      " block6d_bn (BatchNormalization  (None, 7, 7, 1152)  4608        ['block6d_dwconv2[0][0]']        \n",
      " )                                                                                                \n",
      "                                                                                                  \n",
      " block6d_activation (Activation  (None, 7, 7, 1152)  0           ['block6d_bn[0][0]']             \n",
      " )                                                                                                \n",
      "                                                                                                  \n",
      " block6d_se_squeeze (GlobalAver  (None, 1152)        0           ['block6d_activation[0][0]']     \n",
      " agePooling2D)                                                                                    \n",
      "                                                                                                  \n",
      " block6d_se_reshape (Reshape)   (None, 1, 1, 1152)   0           ['block6d_se_squeeze[0][0]']     \n",
      "                                                                                                  \n",
      " block6d_se_reduce (Conv2D)     (None, 1, 1, 48)     55344       ['block6d_se_reshape[0][0]']     \n",
      "                                                                                                  \n",
      " block6d_se_expand (Conv2D)     (None, 1, 1, 1152)   56448       ['block6d_se_reduce[0][0]']      \n",
      "                                                                                                  \n",
      " block6d_se_excite (Multiply)   (None, 7, 7, 1152)   0           ['block6d_activation[0][0]',     \n",
      "                                                                  'block6d_se_expand[0][0]']      \n",
      "                                                                                                  \n",
      " block6d_project_conv (Conv2D)  (None, 7, 7, 192)    221184      ['block6d_se_excite[0][0]']      \n",
      "                                                                                                  \n",
      " block6d_project_bn (BatchNorma  (None, 7, 7, 192)   768         ['block6d_project_conv[0][0]']   \n",
      " lization)                                                                                        \n",
      "                                                                                                  \n",
      " block6d_drop (Dropout)         (None, 7, 7, 192)    0           ['block6d_project_bn[0][0]']     \n",
      "                                                                                                  \n",
      " block6d_add (Add)              (None, 7, 7, 192)    0           ['block6d_drop[0][0]',           \n",
      "                                                                  'block6c_add[0][0]']            \n",
      "                                                                                                  \n",
      " block6e_expand_conv (Conv2D)   (None, 7, 7, 1152)   221184      ['block6d_add[0][0]']            \n",
      "                                                                                                  \n",
      " block6e_expand_bn (BatchNormal  (None, 7, 7, 1152)  4608        ['block6e_expand_conv[0][0]']    \n",
      " ization)                                                                                         \n",
      "                                                                                                  \n",
      " block6e_expand_activation (Act  (None, 7, 7, 1152)  0           ['block6e_expand_bn[0][0]']      \n",
      " ivation)                                                                                         \n",
      "                                                                                                  \n",
      " block6e_dwconv2 (DepthwiseConv  (None, 7, 7, 1152)  10368       ['block6e_expand_activation[0][0]\n",
      " 2D)                                                             ']                               \n",
      "                                                                                                  \n",
      " block6e_bn (BatchNormalization  (None, 7, 7, 1152)  4608        ['block6e_dwconv2[0][0]']        \n",
      " )                                                                                                \n",
      "                                                                                                  \n",
      " block6e_activation (Activation  (None, 7, 7, 1152)  0           ['block6e_bn[0][0]']             \n",
      " )                                                                                                \n",
      "                                                                                                  \n",
      " block6e_se_squeeze (GlobalAver  (None, 1152)        0           ['block6e_activation[0][0]']     \n",
      " agePooling2D)                                                                                    \n",
      "                                                                                                  \n",
      " block6e_se_reshape (Reshape)   (None, 1, 1, 1152)   0           ['block6e_se_squeeze[0][0]']     \n",
      "                                                                                                  \n",
      " block6e_se_reduce (Conv2D)     (None, 1, 1, 48)     55344       ['block6e_se_reshape[0][0]']     \n",
      "                                                                                                  \n",
      " block6e_se_expand (Conv2D)     (None, 1, 1, 1152)   56448       ['block6e_se_reduce[0][0]']      \n",
      "                                                                                                  \n",
      " block6e_se_excite (Multiply)   (None, 7, 7, 1152)   0           ['block6e_activation[0][0]',     \n",
      "                                                                  'block6e_se_expand[0][0]']      \n",
      "                                                                                                  \n",
      " block6e_project_conv (Conv2D)  (None, 7, 7, 192)    221184      ['block6e_se_excite[0][0]']      \n",
      "                                                                                                  \n",
      " block6e_project_bn (BatchNorma  (None, 7, 7, 192)   768         ['block6e_project_conv[0][0]']   \n",
      " lization)                                                                                        \n",
      "                                                                                                  \n",
      " block6e_drop (Dropout)         (None, 7, 7, 192)    0           ['block6e_project_bn[0][0]']     \n",
      "                                                                                                  \n",
      " block6e_add (Add)              (None, 7, 7, 192)    0           ['block6e_drop[0][0]',           \n",
      "                                                                  'block6d_add[0][0]']            \n",
      "                                                                                                  \n",
      " block6f_expand_conv (Conv2D)   (None, 7, 7, 1152)   221184      ['block6e_add[0][0]']            \n",
      "                                                                                                  \n",
      " block6f_expand_bn (BatchNormal  (None, 7, 7, 1152)  4608        ['block6f_expand_conv[0][0]']    \n",
      " ization)                                                                                         \n",
      "                                                                                                  \n",
      " block6f_expand_activation (Act  (None, 7, 7, 1152)  0           ['block6f_expand_bn[0][0]']      \n",
      " ivation)                                                                                         \n",
      "                                                                                                  \n",
      " block6f_dwconv2 (DepthwiseConv  (None, 7, 7, 1152)  10368       ['block6f_expand_activation[0][0]\n",
      " 2D)                                                             ']                               \n",
      "                                                                                                  \n",
      " block6f_bn (BatchNormalization  (None, 7, 7, 1152)  4608        ['block6f_dwconv2[0][0]']        \n",
      " )                                                                                                \n",
      "                                                                                                  \n",
      " block6f_activation (Activation  (None, 7, 7, 1152)  0           ['block6f_bn[0][0]']             \n",
      " )                                                                                                \n",
      "                                                                                                  \n",
      " block6f_se_squeeze (GlobalAver  (None, 1152)        0           ['block6f_activation[0][0]']     \n",
      " agePooling2D)                                                                                    \n",
      "                                                                                                  \n",
      " block6f_se_reshape (Reshape)   (None, 1, 1, 1152)   0           ['block6f_se_squeeze[0][0]']     \n",
      "                                                                                                  \n",
      " block6f_se_reduce (Conv2D)     (None, 1, 1, 48)     55344       ['block6f_se_reshape[0][0]']     \n",
      "                                                                                                  \n",
      " block6f_se_expand (Conv2D)     (None, 1, 1, 1152)   56448       ['block6f_se_reduce[0][0]']      \n",
      "                                                                                                  \n",
      " block6f_se_excite (Multiply)   (None, 7, 7, 1152)   0           ['block6f_activation[0][0]',     \n",
      "                                                                  'block6f_se_expand[0][0]']      \n",
      "                                                                                                  \n",
      " block6f_project_conv (Conv2D)  (None, 7, 7, 192)    221184      ['block6f_se_excite[0][0]']      \n",
      "                                                                                                  \n",
      " block6f_project_bn (BatchNorma  (None, 7, 7, 192)   768         ['block6f_project_conv[0][0]']   \n",
      " lization)                                                                                        \n",
      "                                                                                                  \n",
      " block6f_drop (Dropout)         (None, 7, 7, 192)    0           ['block6f_project_bn[0][0]']     \n",
      "                                                                                                  \n",
      " block6f_add (Add)              (None, 7, 7, 192)    0           ['block6f_drop[0][0]',           \n",
      "                                                                  'block6e_add[0][0]']            \n",
      "                                                                                                  \n",
      " block6g_expand_conv (Conv2D)   (None, 7, 7, 1152)   221184      ['block6f_add[0][0]']            \n",
      "                                                                                                  \n",
      " block6g_expand_bn (BatchNormal  (None, 7, 7, 1152)  4608        ['block6g_expand_conv[0][0]']    \n",
      " ization)                                                                                         \n",
      "                                                                                                  \n",
      " block6g_expand_activation (Act  (None, 7, 7, 1152)  0           ['block6g_expand_bn[0][0]']      \n",
      " ivation)                                                                                         \n",
      "                                                                                                  \n",
      " block6g_dwconv2 (DepthwiseConv  (None, 7, 7, 1152)  10368       ['block6g_expand_activation[0][0]\n",
      " 2D)                                                             ']                               \n",
      "                                                                                                  \n",
      " block6g_bn (BatchNormalization  (None, 7, 7, 1152)  4608        ['block6g_dwconv2[0][0]']        \n",
      " )                                                                                                \n",
      "                                                                                                  \n",
      " block6g_activation (Activation  (None, 7, 7, 1152)  0           ['block6g_bn[0][0]']             \n",
      " )                                                                                                \n",
      "                                                                                                  \n",
      " block6g_se_squeeze (GlobalAver  (None, 1152)        0           ['block6g_activation[0][0]']     \n",
      " agePooling2D)                                                                                    \n",
      "                                                                                                  \n",
      " block6g_se_reshape (Reshape)   (None, 1, 1, 1152)   0           ['block6g_se_squeeze[0][0]']     \n",
      "                                                                                                  \n",
      " block6g_se_reduce (Conv2D)     (None, 1, 1, 48)     55344       ['block6g_se_reshape[0][0]']     \n",
      "                                                                                                  \n",
      " block6g_se_expand (Conv2D)     (None, 1, 1, 1152)   56448       ['block6g_se_reduce[0][0]']      \n",
      "                                                                                                  \n",
      " block6g_se_excite (Multiply)   (None, 7, 7, 1152)   0           ['block6g_activation[0][0]',     \n",
      "                                                                  'block6g_se_expand[0][0]']      \n",
      "                                                                                                  \n",
      " block6g_project_conv (Conv2D)  (None, 7, 7, 192)    221184      ['block6g_se_excite[0][0]']      \n",
      "                                                                                                  \n",
      " block6g_project_bn (BatchNorma  (None, 7, 7, 192)   768         ['block6g_project_conv[0][0]']   \n",
      " lization)                                                                                        \n",
      "                                                                                                  \n",
      " block6g_drop (Dropout)         (None, 7, 7, 192)    0           ['block6g_project_bn[0][0]']     \n",
      "                                                                                                  \n",
      " block6g_add (Add)              (None, 7, 7, 192)    0           ['block6g_drop[0][0]',           \n",
      "                                                                  'block6f_add[0][0]']            \n",
      "                                                                                                  \n",
      " block6h_expand_conv (Conv2D)   (None, 7, 7, 1152)   221184      ['block6g_add[0][0]']            \n",
      "                                                                                                  \n",
      " block6h_expand_bn (BatchNormal  (None, 7, 7, 1152)  4608        ['block6h_expand_conv[0][0]']    \n",
      " ization)                                                                                         \n",
      "                                                                                                  \n",
      " block6h_expand_activation (Act  (None, 7, 7, 1152)  0           ['block6h_expand_bn[0][0]']      \n",
      " ivation)                                                                                         \n",
      "                                                                                                  \n",
      " block6h_dwconv2 (DepthwiseConv  (None, 7, 7, 1152)  10368       ['block6h_expand_activation[0][0]\n",
      " 2D)                                                             ']                               \n",
      "                                                                                                  \n",
      " block6h_bn (BatchNormalization  (None, 7, 7, 1152)  4608        ['block6h_dwconv2[0][0]']        \n",
      " )                                                                                                \n",
      "                                                                                                  \n",
      " block6h_activation (Activation  (None, 7, 7, 1152)  0           ['block6h_bn[0][0]']             \n",
      " )                                                                                                \n",
      "                                                                                                  \n",
      " block6h_se_squeeze (GlobalAver  (None, 1152)        0           ['block6h_activation[0][0]']     \n",
      " agePooling2D)                                                                                    \n",
      "                                                                                                  \n",
      " block6h_se_reshape (Reshape)   (None, 1, 1, 1152)   0           ['block6h_se_squeeze[0][0]']     \n",
      "                                                                                                  \n",
      " block6h_se_reduce (Conv2D)     (None, 1, 1, 48)     55344       ['block6h_se_reshape[0][0]']     \n",
      "                                                                                                  \n",
      " block6h_se_expand (Conv2D)     (None, 1, 1, 1152)   56448       ['block6h_se_reduce[0][0]']      \n",
      "                                                                                                  \n",
      " block6h_se_excite (Multiply)   (None, 7, 7, 1152)   0           ['block6h_activation[0][0]',     \n",
      "                                                                  'block6h_se_expand[0][0]']      \n",
      "                                                                                                  \n",
      " block6h_project_conv (Conv2D)  (None, 7, 7, 192)    221184      ['block6h_se_excite[0][0]']      \n",
      "                                                                                                  \n",
      " block6h_project_bn (BatchNorma  (None, 7, 7, 192)   768         ['block6h_project_conv[0][0]']   \n",
      " lization)                                                                                        \n",
      "                                                                                                  \n",
      " block6h_drop (Dropout)         (None, 7, 7, 192)    0           ['block6h_project_bn[0][0]']     \n",
      "                                                                                                  \n",
      " block6h_add (Add)              (None, 7, 7, 192)    0           ['block6h_drop[0][0]',           \n",
      "                                                                  'block6g_add[0][0]']            \n",
      "                                                                                                  \n",
      " top_conv (Conv2D)              (None, 7, 7, 1280)   245760      ['block6h_add[0][0]']            \n",
      "                                                                                                  \n",
      " top_bn (BatchNormalization)    (None, 7, 7, 1280)   5120        ['top_conv[0][0]']               \n",
      "                                                                                                  \n",
      " top_activation (Activation)    (None, 7, 7, 1280)   0           ['top_bn[0][0]']                 \n",
      "                                                                                                  \n",
      " avg_pool (GlobalAveragePooling  (None, 1280)        0           ['top_activation[0][0]']         \n",
      " 2D)                                                                                              \n",
      "                                                                                                  \n",
      "==================================================================================================\n",
      "Total params: 5,919,312\n",
      "Trainable params: 0\n",
      "Non-trainable params: 5,919,312\n",
      "__________________________________________________________________________________________________\n"
     ]
    }
   ],
   "execution_count": 14
  },
  {
   "cell_type": "code",
   "id": "56c2a096",
   "metadata": {
    "execution": {
     "iopub.execute_input": "2024-05-18T16:42:56.387316Z",
     "iopub.status.busy": "2024-05-18T16:42:56.386699Z",
     "iopub.status.idle": "2024-05-18T16:42:56.392357Z",
     "shell.execute_reply": "2024-05-18T16:42:56.391437Z"
    },
    "papermill": {
     "duration": 0.027622,
     "end_time": "2024-05-18T16:42:56.394488",
     "exception": false,
     "start_time": "2024-05-18T16:42:56.366866",
     "status": "completed"
    },
    "tags": [],
    "ExecuteTime": {
     "end_time": "2024-09-28T19:09:25.295661Z",
     "start_time": "2024-09-28T19:09:25.289123Z"
    }
   },
   "source": [
    "prediction_layer = tf.keras.layers.Dense(1, activation='sigmoid')"
   ],
   "outputs": [],
   "execution_count": 15
  },
  {
   "cell_type": "markdown",
   "id": "08e03213",
   "metadata": {
    "papermill": {
     "duration": 0.017979,
     "end_time": "2024-05-18T16:42:56.431675",
     "exception": false,
     "start_time": "2024-05-18T16:42:56.413696",
     "status": "completed"
    },
    "tags": []
   },
   "source": [
    "# Create Model"
   ]
  },
  {
   "cell_type": "code",
   "id": "ff5fd534",
   "metadata": {
    "execution": {
     "iopub.execute_input": "2024-05-18T16:42:56.469754Z",
     "iopub.status.busy": "2024-05-18T16:42:56.469422Z",
     "iopub.status.idle": "2024-05-18T16:42:56.515426Z",
     "shell.execute_reply": "2024-05-18T16:42:56.514601Z"
    },
    "papermill": {
     "duration": 0.067702,
     "end_time": "2024-05-18T16:42:56.517723",
     "exception": false,
     "start_time": "2024-05-18T16:42:56.450021",
     "status": "completed"
    },
    "tags": [],
    "ExecuteTime": {
     "end_time": "2024-09-28T19:09:29.609749Z",
     "start_time": "2024-09-28T19:09:29.205765Z"
    }
   },
   "source": [
    "# Create the model\n",
    "inputs = tf.keras.Input(shape=input_shape)\n",
    "x = preprocess_input(inputs)\n",
    "x = base_model(x, training=False)\n",
    "x = tf.keras.layers.Dropout(0.2)(x)\n",
    "x = tf.keras.layers.Dense(256, activation=\"selu\")(x)\n",
    "x = tf.keras.layers.Dropout(0.2)(x)\n",
    "x = tf.keras.layers.Dense(64, activation=\"selu\")(x)\n",
    "outputs = prediction_layer(x)\n",
    "model = tf.keras.Model(inputs, outputs)"
   ],
   "outputs": [],
   "execution_count": 16
  },
  {
   "cell_type": "markdown",
   "id": "c891ab0e",
   "metadata": {
    "papermill": {
     "duration": 0.018556,
     "end_time": "2024-05-18T16:42:56.555187",
     "exception": false,
     "start_time": "2024-05-18T16:42:56.536631",
     "status": "completed"
    },
    "tags": []
   },
   "source": [
    "# Compile model"
   ]
  },
  {
   "cell_type": "code",
   "id": "1ca0038d",
   "metadata": {
    "execution": {
     "iopub.execute_input": "2024-05-18T16:42:56.594033Z",
     "iopub.status.busy": "2024-05-18T16:42:56.593425Z",
     "iopub.status.idle": "2024-05-18T16:42:56.638007Z",
     "shell.execute_reply": "2024-05-18T16:42:56.637130Z"
    },
    "papermill": {
     "duration": 0.066199,
     "end_time": "2024-05-18T16:42:56.639961",
     "exception": false,
     "start_time": "2024-05-18T16:42:56.573762",
     "status": "completed"
    },
    "tags": [],
    "ExecuteTime": {
     "end_time": "2024-09-28T19:09:32.997686Z",
     "start_time": "2024-09-28T19:09:32.958307Z"
    }
   },
   "source": [
    "base_learning_rate = 0.001\n",
    "model.compile(optimizer=tf.keras.optimizers.Adam(learning_rate=base_learning_rate),\n",
    "              loss=tf.keras.losses.BinaryCrossentropy(),\n",
    "              metrics=[tf.keras.metrics.BinaryAccuracy(threshold=0.5, name='accuracy')])\n",
    "\n",
    "# Print model summary\n",
    "model.summary()"
   ],
   "outputs": [
    {
     "name": "stdout",
     "output_type": "stream",
     "text": [
      "Model: \"model\"\n",
      "_________________________________________________________________\n",
      " Layer (type)                Output Shape              Param #   \n",
      "=================================================================\n",
      " input_3 (InputLayer)        [(None, 224, 224, 3)]     0         \n",
      "                                                                 \n",
      " efficientnetv2-b0 (Function  (None, 1280)             5919312   \n",
      " al)                                                             \n",
      "                                                                 \n",
      " dropout (Dropout)           (None, 1280)              0         \n",
      "                                                                 \n",
      " dense_2 (Dense)             (None, 256)               327936    \n",
      "                                                                 \n",
      " dropout_1 (Dropout)         (None, 256)               0         \n",
      "                                                                 \n",
      " dense_3 (Dense)             (None, 64)                16448     \n",
      "                                                                 \n",
      " dense_1 (Dense)             (None, 1)                 65        \n",
      "                                                                 \n",
      "=================================================================\n",
      "Total params: 6,263,761\n",
      "Trainable params: 344,449\n",
      "Non-trainable params: 5,919,312\n",
      "_________________________________________________________________\n"
     ]
    }
   ],
   "execution_count": 17
  },
  {
   "cell_type": "markdown",
   "id": "98f9316d",
   "metadata": {
    "papermill": {
     "duration": 0.0194,
     "end_time": "2024-05-18T16:42:56.679213",
     "exception": false,
     "start_time": "2024-05-18T16:42:56.659813",
     "status": "completed"
    },
    "tags": []
   },
   "source": [
    "# Train model"
   ]
  },
  {
   "cell_type": "code",
   "id": "b694c73c",
   "metadata": {
    "execution": {
     "iopub.execute_input": "2024-05-18T16:42:56.721182Z",
     "iopub.status.busy": "2024-05-18T16:42:56.720566Z",
     "iopub.status.idle": "2024-05-18T17:37:53.040664Z",
     "shell.execute_reply": "2024-05-18T17:37:53.039652Z"
    },
    "papermill": {
     "duration": 3296.343432,
     "end_time": "2024-05-18T17:37:53.042789",
     "exception": false,
     "start_time": "2024-05-18T16:42:56.699357",
     "status": "completed"
    },
    "tags": [],
    "ExecuteTime": {
     "end_time": "2024-09-28T19:29:39.373899Z",
     "start_time": "2024-09-28T19:09:36.884273Z"
    }
   },
   "source": [
    "initial_epochs = CFG.epochs\n",
    "\n",
    "history = model.fit(train_dataset,\n",
    "                    epochs=initial_epochs,\n",
    "                    validation_data=validation_dataset)"
   ],
   "outputs": [
    {
     "name": "stdout",
     "output_type": "stream",
     "text": [
      "Epoch 1/50\n",
      "159/159 [==============================] - 32s 154ms/step - loss: 0.4884 - accuracy: 0.7664 - val_loss: 0.4346 - val_accuracy: 0.7943\n",
      "Epoch 2/50\n",
      "159/159 [==============================] - 23s 145ms/step - loss: 0.4310 - accuracy: 0.7923 - val_loss: 0.4189 - val_accuracy: 0.8048\n",
      "Epoch 3/50\n",
      "159/159 [==============================] - 24s 149ms/step - loss: 0.4101 - accuracy: 0.8014 - val_loss: 0.4174 - val_accuracy: 0.8058\n",
      "Epoch 4/50\n",
      "159/159 [==============================] - 24s 149ms/step - loss: 0.4038 - accuracy: 0.8092 - val_loss: 0.4148 - val_accuracy: 0.8058\n",
      "Epoch 5/50\n",
      "159/159 [==============================] - 23s 147ms/step - loss: 0.3868 - accuracy: 0.8185 - val_loss: 0.4303 - val_accuracy: 0.8028\n",
      "Epoch 6/50\n",
      "159/159 [==============================] - 23s 147ms/step - loss: 0.3814 - accuracy: 0.8226 - val_loss: 0.4022 - val_accuracy: 0.8158\n",
      "Epoch 7/50\n",
      "159/159 [==============================] - 24s 148ms/step - loss: 0.3672 - accuracy: 0.8306 - val_loss: 0.4011 - val_accuracy: 0.8214\n",
      "Epoch 8/50\n",
      "159/159 [==============================] - 24s 148ms/step - loss: 0.3647 - accuracy: 0.8311 - val_loss: 0.3990 - val_accuracy: 0.8194\n",
      "Epoch 9/50\n",
      "159/159 [==============================] - 23s 147ms/step - loss: 0.3569 - accuracy: 0.8365 - val_loss: 0.3903 - val_accuracy: 0.8206\n",
      "Epoch 10/50\n",
      "159/159 [==============================] - 23s 147ms/step - loss: 0.3417 - accuracy: 0.8430 - val_loss: 0.4178 - val_accuracy: 0.8046\n",
      "Epoch 11/50\n",
      "159/159 [==============================] - 23s 146ms/step - loss: 0.3384 - accuracy: 0.8427 - val_loss: 0.3928 - val_accuracy: 0.8202\n",
      "Epoch 12/50\n",
      "159/159 [==============================] - 23s 147ms/step - loss: 0.3324 - accuracy: 0.8467 - val_loss: 0.3825 - val_accuracy: 0.8269\n",
      "Epoch 13/50\n",
      "159/159 [==============================] - 23s 145ms/step - loss: 0.3216 - accuracy: 0.8551 - val_loss: 0.3852 - val_accuracy: 0.8285\n",
      "Epoch 14/50\n",
      "159/159 [==============================] - 23s 147ms/step - loss: 0.3180 - accuracy: 0.8570 - val_loss: 0.3978 - val_accuracy: 0.8233\n",
      "Epoch 15/50\n",
      "159/159 [==============================] - 24s 152ms/step - loss: 0.3169 - accuracy: 0.8573 - val_loss: 0.3950 - val_accuracy: 0.8249\n",
      "Epoch 16/50\n",
      "159/159 [==============================] - 23s 147ms/step - loss: 0.3110 - accuracy: 0.8589 - val_loss: 0.3938 - val_accuracy: 0.8249\n",
      "Epoch 17/50\n",
      "159/159 [==============================] - 23s 146ms/step - loss: 0.3046 - accuracy: 0.8661 - val_loss: 0.4042 - val_accuracy: 0.8285\n",
      "Epoch 18/50\n",
      "159/159 [==============================] - 24s 148ms/step - loss: 0.2928 - accuracy: 0.8670 - val_loss: 0.3921 - val_accuracy: 0.8308\n",
      "Epoch 19/50\n",
      "159/159 [==============================] - 24s 150ms/step - loss: 0.2874 - accuracy: 0.8712 - val_loss: 0.3870 - val_accuracy: 0.8324\n",
      "Epoch 20/50\n",
      "159/159 [==============================] - 29s 182ms/step - loss: 0.2860 - accuracy: 0.8742 - val_loss: 0.3993 - val_accuracy: 0.8314\n",
      "Epoch 21/50\n",
      "159/159 [==============================] - 24s 153ms/step - loss: 0.2815 - accuracy: 0.8740 - val_loss: 0.3993 - val_accuracy: 0.8310\n",
      "Epoch 22/50\n",
      "159/159 [==============================] - 24s 153ms/step - loss: 0.2787 - accuracy: 0.8753 - val_loss: 0.4044 - val_accuracy: 0.8295\n",
      "Epoch 23/50\n",
      "159/159 [==============================] - 23s 145ms/step - loss: 0.2717 - accuracy: 0.8804 - val_loss: 0.4063 - val_accuracy: 0.8200\n",
      "Epoch 24/50\n",
      "159/159 [==============================] - 23s 146ms/step - loss: 0.2638 - accuracy: 0.8837 - val_loss: 0.3999 - val_accuracy: 0.8312\n",
      "Epoch 25/50\n",
      "159/159 [==============================] - 23s 147ms/step - loss: 0.2636 - accuracy: 0.8824 - val_loss: 0.4158 - val_accuracy: 0.8227\n",
      "Epoch 26/50\n",
      "159/159 [==============================] - 24s 150ms/step - loss: 0.2585 - accuracy: 0.8855 - val_loss: 0.4017 - val_accuracy: 0.8316\n",
      "Epoch 27/50\n",
      "159/159 [==============================] - 24s 151ms/step - loss: 0.2534 - accuracy: 0.8865 - val_loss: 0.4181 - val_accuracy: 0.8273\n",
      "Epoch 28/50\n",
      "159/159 [==============================] - 24s 149ms/step - loss: 0.2500 - accuracy: 0.8920 - val_loss: 0.4081 - val_accuracy: 0.8293\n",
      "Epoch 29/50\n",
      "159/159 [==============================] - 24s 149ms/step - loss: 0.2502 - accuracy: 0.8927 - val_loss: 0.4053 - val_accuracy: 0.8342\n",
      "Epoch 30/50\n",
      "159/159 [==============================] - 24s 150ms/step - loss: 0.2395 - accuracy: 0.8954 - val_loss: 0.4147 - val_accuracy: 0.8348\n",
      "Epoch 31/50\n",
      "159/159 [==============================] - 24s 151ms/step - loss: 0.2340 - accuracy: 0.8971 - val_loss: 0.4399 - val_accuracy: 0.8275\n",
      "Epoch 32/50\n",
      "159/159 [==============================] - 24s 149ms/step - loss: 0.2384 - accuracy: 0.8954 - val_loss: 0.4300 - val_accuracy: 0.8324\n",
      "Epoch 33/50\n",
      "159/159 [==============================] - 24s 151ms/step - loss: 0.2273 - accuracy: 0.9025 - val_loss: 0.4055 - val_accuracy: 0.8336\n",
      "Epoch 34/50\n",
      "159/159 [==============================] - 24s 153ms/step - loss: 0.2300 - accuracy: 0.9012 - val_loss: 0.4275 - val_accuracy: 0.8306\n",
      "Epoch 35/50\n",
      "159/159 [==============================] - 24s 151ms/step - loss: 0.2233 - accuracy: 0.9034 - val_loss: 0.4197 - val_accuracy: 0.8318\n",
      "Epoch 36/50\n",
      "159/159 [==============================] - 24s 150ms/step - loss: 0.2190 - accuracy: 0.9054 - val_loss: 0.4241 - val_accuracy: 0.8371\n",
      "Epoch 37/50\n",
      "159/159 [==============================] - 24s 152ms/step - loss: 0.2191 - accuracy: 0.9054 - val_loss: 0.4350 - val_accuracy: 0.8370\n",
      "Epoch 38/50\n",
      "159/159 [==============================] - 24s 148ms/step - loss: 0.2167 - accuracy: 0.9067 - val_loss: 0.4165 - val_accuracy: 0.8267\n",
      "Epoch 39/50\n",
      "159/159 [==============================] - 24s 150ms/step - loss: 0.2116 - accuracy: 0.9097 - val_loss: 0.4401 - val_accuracy: 0.8332\n",
      "Epoch 40/50\n",
      "159/159 [==============================] - 24s 152ms/step - loss: 0.2107 - accuracy: 0.9086 - val_loss: 0.4446 - val_accuracy: 0.8296\n",
      "Epoch 41/50\n",
      "159/159 [==============================] - 24s 153ms/step - loss: 0.2076 - accuracy: 0.9112 - val_loss: 0.4429 - val_accuracy: 0.8332\n",
      "Epoch 42/50\n",
      "159/159 [==============================] - 24s 150ms/step - loss: 0.2050 - accuracy: 0.9128 - val_loss: 0.4328 - val_accuracy: 0.8298\n",
      "Epoch 43/50\n",
      "159/159 [==============================] - 24s 150ms/step - loss: 0.1992 - accuracy: 0.9137 - val_loss: 0.4505 - val_accuracy: 0.8350\n",
      "Epoch 44/50\n",
      "159/159 [==============================] - 24s 151ms/step - loss: 0.1948 - accuracy: 0.9164 - val_loss: 0.4539 - val_accuracy: 0.8279\n",
      "Epoch 45/50\n",
      "159/159 [==============================] - 24s 149ms/step - loss: 0.1960 - accuracy: 0.9169 - val_loss: 0.4379 - val_accuracy: 0.8344\n",
      "Epoch 46/50\n",
      "159/159 [==============================] - 24s 151ms/step - loss: 0.1905 - accuracy: 0.9171 - val_loss: 0.4355 - val_accuracy: 0.8336\n",
      "Epoch 47/50\n",
      "159/159 [==============================] - 24s 151ms/step - loss: 0.1884 - accuracy: 0.9200 - val_loss: 0.4489 - val_accuracy: 0.8302\n",
      "Epoch 48/50\n",
      "159/159 [==============================] - 24s 151ms/step - loss: 0.1920 - accuracy: 0.9178 - val_loss: 0.4503 - val_accuracy: 0.8336\n",
      "Epoch 49/50\n",
      "159/159 [==============================] - 24s 151ms/step - loss: 0.1855 - accuracy: 0.9205 - val_loss: 0.4713 - val_accuracy: 0.8281\n",
      "Epoch 50/50\n",
      "159/159 [==============================] - 24s 151ms/step - loss: 0.1853 - accuracy: 0.9202 - val_loss: 0.4600 - val_accuracy: 0.8326\n"
     ]
    }
   ],
   "execution_count": 18
  },
  {
   "cell_type": "markdown",
   "id": "80728de1",
   "metadata": {
    "papermill": {
     "duration": 0.661156,
     "end_time": "2024-05-18T17:37:54.364976",
     "exception": false,
     "start_time": "2024-05-18T17:37:53.703820",
     "status": "completed"
    },
    "tags": []
   },
   "source": [
    "# Plot Training"
   ]
  },
  {
   "cell_type": "code",
   "id": "12375bc9",
   "metadata": {
    "execution": {
     "iopub.execute_input": "2024-05-18T17:37:55.723782Z",
     "iopub.status.busy": "2024-05-18T17:37:55.722728Z",
     "iopub.status.idle": "2024-05-18T17:37:56.176675Z",
     "shell.execute_reply": "2024-05-18T17:37:56.175787Z"
    },
    "papermill": {
     "duration": 1.112804,
     "end_time": "2024-05-18T17:37:56.178774",
     "exception": false,
     "start_time": "2024-05-18T17:37:55.065970",
     "status": "completed"
    },
    "tags": [],
    "ExecuteTime": {
     "end_time": "2024-09-28T19:29:45.082111Z",
     "start_time": "2024-09-28T19:29:44.844159Z"
    }
   },
   "source": [
    "acc = history.history['accuracy']\n",
    "val_acc = history.history['val_accuracy']\n",
    "\n",
    "loss = history.history['loss']\n",
    "val_loss = history.history['val_loss']\n",
    "\n",
    "plt.figure(figsize=(8, 8))\n",
    "plt.subplot(2, 1, 1)\n",
    "plt.plot(acc, label='Training Accuracy')\n",
    "plt.plot(val_acc, label='Validation Accuracy')\n",
    "plt.legend(loc='lower right')\n",
    "plt.ylabel('Accuracy')\n",
    "plt.ylim([min(plt.ylim()),1])\n",
    "plt.title('Training and Validation Accuracy')\n",
    "\n",
    "plt.subplot(2, 1, 2)\n",
    "plt.plot(loss, label='Training Loss')\n",
    "plt.plot(val_loss, label='Validation Loss')\n",
    "plt.legend(loc='upper right')\n",
    "plt.ylabel('Cross Entropy')\n",
    "plt.ylim([0,1.0])\n",
    "plt.title('Training and Validation Loss')\n",
    "plt.xlabel('epoch')\n",
    "plt.show()"
   ],
   "outputs": [
    {
     "data": {
      "text/plain": [
       "<Figure size 800x800 with 2 Axes>"
      ],
      "image/png": "[encoded data removed]"
     },
     "metadata": {},
     "output_type": "display_data"
    }
   ],
   "execution_count": 19
  },
  {
   "cell_type": "code",
   "id": "20b2e1af",
   "metadata": {
    "execution": {
     "iopub.execute_input": "2024-05-18T17:37:57.542359Z",
     "iopub.status.busy": "2024-05-18T17:37:57.541995Z",
     "iopub.status.idle": "2024-05-18T17:38:40.654256Z",
     "shell.execute_reply": "2024-05-18T17:38:40.653148Z"
    },
    "papermill": {
     "duration": 43.768824,
     "end_time": "2024-05-18T17:38:40.656458",
     "exception": false,
     "start_time": "2024-05-18T17:37:56.887634",
     "status": "completed"
    },
    "tags": [],
    "ExecuteTime": {
     "end_time": "2024-09-28T19:29:53.530700Z",
     "start_time": "2024-09-28T19:29:46.214006Z"
    }
   },
   "source": [
    "from sklearn.metrics import roc_curve\n",
    "y_pred = model.predict(test_dataset).ravel()\n",
    "fpr, tpr, thresholds = roc_curve(y_test, y_pred)"
   ],
   "outputs": [
    {
     "name": "stdout",
     "output_type": "stream",
     "text": [
      "53/53 [==============================] - 7s 118ms/step\n"
     ]
    }
   ],
   "execution_count": 20
  },
  {
   "cell_type": "code",
   "id": "631a5064",
   "metadata": {
    "execution": {
     "iopub.execute_input": "2024-05-18T17:38:42.028668Z",
     "iopub.status.busy": "2024-05-18T17:38:42.027805Z",
     "iopub.status.idle": "2024-05-18T17:38:42.032805Z",
     "shell.execute_reply": "2024-05-18T17:38:42.031920Z"
    },
    "papermill": {
     "duration": 0.71406,
     "end_time": "2024-05-18T17:38:42.034720",
     "exception": false,
     "start_time": "2024-05-18T17:38:41.320660",
     "status": "completed"
    },
    "tags": [],
    "ExecuteTime": {
     "end_time": "2024-09-28T19:29:53.541057Z",
     "start_time": "2024-09-28T19:29:53.533613Z"
    }
   },
   "source": [
    "from sklearn.metrics import auc\n",
    "auc_score = auc(fpr, tpr)"
   ],
   "outputs": [],
   "execution_count": 21
  },
  {
   "cell_type": "code",
   "id": "f4f7c3a1",
   "metadata": {
    "execution": {
     "iopub.execute_input": "2024-05-18T17:38:43.434271Z",
     "iopub.status.busy": "2024-05-18T17:38:43.433941Z",
     "iopub.status.idle": "2024-05-18T17:38:44.293602Z",
     "shell.execute_reply": "2024-05-18T17:38:44.292804Z"
    },
    "papermill": {
     "duration": 1.594495,
     "end_time": "2024-05-18T17:38:44.295782",
     "exception": false,
     "start_time": "2024-05-18T17:38:42.701287",
     "status": "completed"
    },
    "tags": [],
    "ExecuteTime": {
     "end_time": "2024-09-28T19:29:53.597930Z",
     "start_time": "2024-09-28T19:29:53.574618Z"
    }
   },
   "source": [
    "y_pred = tf.where(y_pred < 0.5, 0, 1)"
   ],
   "outputs": [],
   "execution_count": 22
  },
  {
   "cell_type": "code",
   "id": "7089e03a",
   "metadata": {
    "execution": {
     "iopub.execute_input": "2024-05-18T17:38:45.616116Z",
     "iopub.status.busy": "2024-05-18T17:38:45.615268Z",
     "iopub.status.idle": "2024-05-18T17:38:45.629735Z",
     "shell.execute_reply": "2024-05-18T17:38:45.628832Z"
    },
    "papermill": {
     "duration": 0.675836,
     "end_time": "2024-05-18T17:38:45.631628",
     "exception": false,
     "start_time": "2024-05-18T17:38:44.955792",
     "status": "completed"
    },
    "tags": [],
    "ExecuteTime": {
     "end_time": "2024-09-28T19:29:54.553761Z",
     "start_time": "2024-09-28T19:29:54.533676Z"
    }
   },
   "source": [
    "from sklearn.metrics import classification_report\n",
    "print(classification_report(y_test, y_pred))"
   ],
   "outputs": [
    {
     "name": "stdout",
     "output_type": "stream",
     "text": [
      "              precision    recall  f1-score   support\n",
      "\n",
      "         0.0       0.84      0.89      0.87      3199\n",
      "         1.0       0.79      0.71      0.75      1868\n",
      "\n",
      "    accuracy                           0.83      5067\n",
      "   macro avg       0.82      0.80      0.81      5067\n",
      "weighted avg       0.82      0.83      0.82      5067\n",
      "\n"
     ]
    }
   ],
   "execution_count": 23
  },
  {
   "cell_type": "code",
   "id": "f3c6e96b",
   "metadata": {
    "execution": {
     "iopub.execute_input": "2024-05-18T17:38:47.021254Z",
     "iopub.status.busy": "2024-05-18T17:38:47.020890Z",
     "iopub.status.idle": "2024-05-18T17:38:47.047157Z",
     "shell.execute_reply": "2024-05-18T17:38:47.046234Z"
    },
    "papermill": {
     "duration": 0.753112,
     "end_time": "2024-05-18T17:38:47.049266",
     "exception": false,
     "start_time": "2024-05-18T17:38:46.296154",
     "status": "completed"
    },
    "tags": [],
    "ExecuteTime": {
     "end_time": "2024-09-28T19:29:55.249919Z",
     "start_time": "2024-09-28T19:29:55.235275Z"
    }
   },
   "source": [
    "from sklearn.metrics import confusion_matrix\n",
    "print(confusion_matrix(y_test, y_pred))"
   ],
   "outputs": [
    {
     "name": "stdout",
     "output_type": "stream",
     "text": [
      "[[2853  346]\n",
      " [ 534 1334]]\n"
     ]
    }
   ],
   "execution_count": 24
  },
  {
   "cell_type": "markdown",
   "id": "97eccb97",
   "metadata": {
    "papermill": {
     "duration": 0.65932,
     "end_time": "2024-05-18T17:38:48.363221",
     "exception": false,
     "start_time": "2024-05-18T17:38:47.703901",
     "status": "completed"
    },
    "tags": []
   },
   "source": [
    "# Fine tune base model"
   ]
  },
  {
   "cell_type": "code",
   "id": "e86bc375",
   "metadata": {
    "execution": {
     "iopub.execute_input": "2024-05-18T17:38:49.680593Z",
     "iopub.status.busy": "2024-05-18T17:38:49.680257Z",
     "iopub.status.idle": "2024-05-18T17:38:49.691087Z",
     "shell.execute_reply": "2024-05-18T17:38:49.690369Z"
    },
    "papermill": {
     "duration": 0.671053,
     "end_time": "2024-05-18T17:38:49.693054",
     "exception": false,
     "start_time": "2024-05-18T17:38:49.022001",
     "status": "completed"
    },
    "tags": [],
    "ExecuteTime": {
     "end_time": "2024-09-28T19:29:56.393763Z",
     "start_time": "2024-09-28T19:29:56.383966Z"
    }
   },
   "source": [
    "base_model.trainable = True"
   ],
   "outputs": [],
   "execution_count": 25
  },
  {
   "cell_type": "code",
   "id": "eec0f136",
   "metadata": {
    "execution": {
     "iopub.execute_input": "2024-05-18T17:38:51.096874Z",
     "iopub.status.busy": "2024-05-18T17:38:51.096418Z",
     "iopub.status.idle": "2024-05-18T17:38:51.101993Z",
     "shell.execute_reply": "2024-05-18T17:38:51.101188Z"
    },
    "papermill": {
     "duration": 0.696546,
     "end_time": "2024-05-18T17:38:51.103927",
     "exception": false,
     "start_time": "2024-05-18T17:38:50.407381",
     "status": "completed"
    },
    "tags": [],
    "ExecuteTime": {
     "end_time": "2024-09-28T19:29:56.913687Z",
     "start_time": "2024-09-28T19:29:56.904167Z"
    }
   },
   "source": [
    "# Let's take a look to see how many layers are in the base model\n",
    "print(\"Number of layers in the base model: \", len(base_model.layers))"
   ],
   "outputs": [
    {
     "name": "stdout",
     "output_type": "stream",
     "text": [
      "Number of layers in the base model:  271\n"
     ]
    }
   ],
   "execution_count": 26
  },
  {
   "cell_type": "code",
   "id": "15974261",
   "metadata": {
    "execution": {
     "iopub.execute_input": "2024-05-18T17:38:52.497623Z",
     "iopub.status.busy": "2024-05-18T17:38:52.497269Z",
     "iopub.status.idle": "2024-05-18T17:38:52.508406Z",
     "shell.execute_reply": "2024-05-18T17:38:52.507525Z"
    },
    "papermill": {
     "duration": 0.725177,
     "end_time": "2024-05-18T17:38:52.510375",
     "exception": false,
     "start_time": "2024-05-18T17:38:51.785198",
     "status": "completed"
    },
    "tags": [],
    "ExecuteTime": {
     "end_time": "2024-09-28T19:29:57.480462Z",
     "start_time": "2024-09-28T19:29:57.464002Z"
    }
   },
   "source": [
    "# Fine-tune from this layer onwards\n",
    "start_fine_tune_at = 230\n",
    "\n",
    "# Freeze all the layers before the `start_fine_tune_at` layer\n",
    "for layer in base_model.layers[:start_fine_tune_at]:\n",
    "  layer.trainable = False"
   ],
   "outputs": [],
   "execution_count": 27
  },
  {
   "cell_type": "markdown",
   "id": "a6a25c79",
   "metadata": {
    "papermill": {
     "duration": 0.662701,
     "end_time": "2024-05-18T17:38:53.852572",
     "exception": false,
     "start_time": "2024-05-18T17:38:53.189871",
     "status": "completed"
    },
    "tags": []
   },
   "source": [
    "# Recompile model"
   ]
  },
  {
   "cell_type": "code",
   "id": "8c21299f",
   "metadata": {
    "execution": {
     "iopub.execute_input": "2024-05-18T17:38:55.230438Z",
     "iopub.status.busy": "2024-05-18T17:38:55.230070Z",
     "iopub.status.idle": "2024-05-18T17:38:55.268747Z",
     "shell.execute_reply": "2024-05-18T17:38:55.267911Z"
    },
    "papermill": {
     "duration": 0.699952,
     "end_time": "2024-05-18T17:38:55.270584",
     "exception": false,
     "start_time": "2024-05-18T17:38:54.570632",
     "status": "completed"
    },
    "tags": [],
    "ExecuteTime": {
     "end_time": "2024-09-28T19:29:59.114688Z",
     "start_time": "2024-09-28T19:29:59.081002Z"
    }
   },
   "source": [
    "model.compile(loss=tf.keras.losses.BinaryCrossentropy(),\n",
    "              optimizer = tf.keras.optimizers.RMSprop(learning_rate=base_learning_rate/10),\n",
    "              metrics=[tf.keras.metrics.BinaryAccuracy(threshold=0.5, name='accuracy')])\n",
    "\n",
    "model.summary()"
   ],
   "outputs": [
    {
     "name": "stdout",
     "output_type": "stream",
     "text": [
      "Model: \"model\"\n",
      "_________________________________________________________________\n",
      " Layer (type)                Output Shape              Param #   \n",
      "=================================================================\n",
      " input_3 (InputLayer)        [(None, 224, 224, 3)]     0         \n",
      "                                                                 \n",
      " efficientnetv2-b0 (Function  (None, 1280)             5919312   \n",
      " al)                                                             \n",
      "                                                                 \n",
      " dropout (Dropout)           (None, 1280)              0         \n",
      "                                                                 \n",
      " dense_2 (Dense)             (None, 256)               327936    \n",
      "                                                                 \n",
      " dropout_1 (Dropout)         (None, 256)               0         \n",
      "                                                                 \n",
      " dense_3 (Dense)             (None, 64)                16448     \n",
      "                                                                 \n",
      " dense_1 (Dense)             (None, 1)                 65        \n",
      "                                                                 \n",
      "=================================================================\n",
      "Total params: 6,263,761\n",
      "Trainable params: 2,065,169\n",
      "Non-trainable params: 4,198,592\n",
      "_________________________________________________________________\n"
     ]
    }
   ],
   "execution_count": 28
  },
  {
   "cell_type": "markdown",
   "id": "d5125f7c",
   "metadata": {
    "papermill": {
     "duration": 0.658076,
     "end_time": "2024-05-18T17:38:56.589427",
     "exception": false,
     "start_time": "2024-05-18T17:38:55.931351",
     "status": "completed"
    },
    "tags": []
   },
   "source": [
    "# Retrain model"
   ]
  },
  {
   "cell_type": "code",
   "id": "ffcf6e3a",
   "metadata": {
    "execution": {
     "iopub.execute_input": "2024-05-18T17:38:57.966429Z",
     "iopub.status.busy": "2024-05-18T17:38:57.966040Z",
     "iopub.status.idle": "2024-05-18T18:34:33.428385Z",
     "shell.execute_reply": "2024-05-18T18:34:33.427547Z"
    },
    "papermill": {
     "duration": 3337.440159,
     "end_time": "2024-05-18T18:34:34.742653",
     "exception": false,
     "start_time": "2024-05-18T17:38:57.302494",
     "status": "completed"
    },
    "tags": [],
    "ExecuteTime": {
     "end_time": "2024-09-28T19:52:15.539616Z",
     "start_time": "2024-09-28T19:30:00.303949Z"
    }
   },
   "source": [
    "fine_tune_epochs = CFG.epochs\n",
    "total_epochs =  initial_epochs + fine_tune_epochs\n",
    "\n",
    "history_fine = model.fit(train_dataset,\n",
    "                         epochs=total_epochs,\n",
    "                         initial_epoch=len(history.epoch),\n",
    "                         validation_data=validation_dataset)\n"
   ],
   "outputs": [
    {
     "name": "stdout",
     "output_type": "stream",
     "text": [
      "Epoch 51/100\n",
      "159/159 [==============================] - 31s 167ms/step - loss: 0.1725 - accuracy: 0.9258 - val_loss: 0.4801 - val_accuracy: 0.8399\n",
      "Epoch 52/100\n",
      "159/159 [==============================] - 26s 167ms/step - loss: 0.1574 - accuracy: 0.9342 - val_loss: 0.4631 - val_accuracy: 0.8358\n",
      "Epoch 53/100\n",
      "159/159 [==============================] - 26s 163ms/step - loss: 0.1480 - accuracy: 0.9397 - val_loss: 0.4694 - val_accuracy: 0.8445\n",
      "Epoch 54/100\n",
      "159/159 [==============================] - 26s 161ms/step - loss: 0.1359 - accuracy: 0.9443 - val_loss: 0.4664 - val_accuracy: 0.8368\n",
      "Epoch 55/100\n",
      "159/159 [==============================] - 26s 161ms/step - loss: 0.1257 - accuracy: 0.9510 - val_loss: 0.4970 - val_accuracy: 0.8350\n",
      "Epoch 56/100\n",
      "159/159 [==============================] - 26s 161ms/step - loss: 0.1080 - accuracy: 0.9560 - val_loss: 0.5284 - val_accuracy: 0.8423\n",
      "Epoch 57/100\n",
      "159/159 [==============================] - 26s 161ms/step - loss: 0.1029 - accuracy: 0.9608 - val_loss: 0.4925 - val_accuracy: 0.8415\n",
      "Epoch 58/100\n",
      "159/159 [==============================] - 26s 163ms/step - loss: 0.0955 - accuracy: 0.9624 - val_loss: 0.4995 - val_accuracy: 0.8379\n",
      "Epoch 59/100\n",
      "159/159 [==============================] - 26s 163ms/step - loss: 0.0856 - accuracy: 0.9660 - val_loss: 0.5233 - val_accuracy: 0.8474\n",
      "Epoch 60/100\n",
      "159/159 [==============================] - 26s 162ms/step - loss: 0.0809 - accuracy: 0.9683 - val_loss: 0.5636 - val_accuracy: 0.8393\n",
      "Epoch 61/100\n",
      "159/159 [==============================] - 26s 166ms/step - loss: 0.0759 - accuracy: 0.9712 - val_loss: 0.5768 - val_accuracy: 0.8478\n",
      "Epoch 62/100\n",
      "159/159 [==============================] - 27s 167ms/step - loss: 0.0676 - accuracy: 0.9749 - val_loss: 0.5729 - val_accuracy: 0.8435\n",
      "Epoch 63/100\n",
      "159/159 [==============================] - 27s 168ms/step - loss: 0.0594 - accuracy: 0.9784 - val_loss: 0.5473 - val_accuracy: 0.8462\n",
      "Epoch 64/100\n",
      "159/159 [==============================] - 27s 168ms/step - loss: 0.0537 - accuracy: 0.9803 - val_loss: 0.5853 - val_accuracy: 0.8506\n",
      "Epoch 65/100\n",
      "159/159 [==============================] - 27s 168ms/step - loss: 0.0472 - accuracy: 0.9828 - val_loss: 0.6180 - val_accuracy: 0.8472\n",
      "Epoch 66/100\n",
      "159/159 [==============================] - 27s 168ms/step - loss: 0.0447 - accuracy: 0.9834 - val_loss: 0.5715 - val_accuracy: 0.8474\n",
      "Epoch 67/100\n",
      "159/159 [==============================] - 27s 168ms/step - loss: 0.0386 - accuracy: 0.9873 - val_loss: 0.6296 - val_accuracy: 0.8409\n",
      "Epoch 68/100\n",
      "159/159 [==============================] - 27s 168ms/step - loss: 0.0360 - accuracy: 0.9874 - val_loss: 0.6367 - val_accuracy: 0.8448\n",
      "Epoch 69/100\n",
      "159/159 [==============================] - 27s 169ms/step - loss: 0.0319 - accuracy: 0.9895 - val_loss: 0.6465 - val_accuracy: 0.8508\n",
      "Epoch 70/100\n",
      "159/159 [==============================] - 27s 169ms/step - loss: 0.0311 - accuracy: 0.9891 - val_loss: 0.6732 - val_accuracy: 0.8484\n",
      "Epoch 71/100\n",
      "159/159 [==============================] - 27s 168ms/step - loss: 0.0247 - accuracy: 0.9908 - val_loss: 0.7043 - val_accuracy: 0.8464\n",
      "Epoch 72/100\n",
      "159/159 [==============================] - 27s 168ms/step - loss: 0.0259 - accuracy: 0.9914 - val_loss: 0.7442 - val_accuracy: 0.8539\n",
      "Epoch 73/100\n",
      "159/159 [==============================] - 27s 168ms/step - loss: 0.0233 - accuracy: 0.9912 - val_loss: 0.6897 - val_accuracy: 0.8326\n",
      "Epoch 74/100\n",
      "159/159 [==============================] - 27s 168ms/step - loss: 0.0214 - accuracy: 0.9927 - val_loss: 0.7312 - val_accuracy: 0.8484\n",
      "Epoch 75/100\n",
      "159/159 [==============================] - 27s 169ms/step - loss: 0.0166 - accuracy: 0.9952 - val_loss: 0.7402 - val_accuracy: 0.8480\n",
      "Epoch 76/100\n",
      "159/159 [==============================] - 27s 168ms/step - loss: 0.0157 - accuracy: 0.9954 - val_loss: 0.7629 - val_accuracy: 0.8439\n",
      "Epoch 77/100\n",
      "159/159 [==============================] - 27s 168ms/step - loss: 0.0152 - accuracy: 0.9955 - val_loss: 0.7706 - val_accuracy: 0.8510\n",
      "Epoch 78/100\n",
      "159/159 [==============================] - 27s 168ms/step - loss: 0.0144 - accuracy: 0.9954 - val_loss: 0.9034 - val_accuracy: 0.8545\n",
      "Epoch 79/100\n",
      "159/159 [==============================] - 27s 169ms/step - loss: 0.0139 - accuracy: 0.9960 - val_loss: 0.8132 - val_accuracy: 0.8510\n",
      "Epoch 80/100\n",
      "159/159 [==============================] - 27s 168ms/step - loss: 0.0137 - accuracy: 0.9959 - val_loss: 0.8236 - val_accuracy: 0.8533\n",
      "Epoch 81/100\n",
      "159/159 [==============================] - 27s 168ms/step - loss: 0.0100 - accuracy: 0.9974 - val_loss: 0.8726 - val_accuracy: 0.8510\n",
      "Epoch 82/100\n",
      "159/159 [==============================] - 27s 168ms/step - loss: 0.0113 - accuracy: 0.9966 - val_loss: 0.8573 - val_accuracy: 0.8468\n",
      "Epoch 83/100\n",
      "159/159 [==============================] - 27s 168ms/step - loss: 0.0112 - accuracy: 0.9968 - val_loss: 0.8518 - val_accuracy: 0.8472\n",
      "Epoch 84/100\n",
      "159/159 [==============================] - 27s 168ms/step - loss: 0.0111 - accuracy: 0.9966 - val_loss: 0.8387 - val_accuracy: 0.8482\n",
      "Epoch 85/100\n",
      "159/159 [==============================] - 27s 168ms/step - loss: 0.0100 - accuracy: 0.9974 - val_loss: 0.8790 - val_accuracy: 0.8419\n",
      "Epoch 86/100\n",
      "159/159 [==============================] - 27s 168ms/step - loss: 0.0099 - accuracy: 0.9961 - val_loss: 0.8784 - val_accuracy: 0.8439\n",
      "Epoch 87/100\n",
      "159/159 [==============================] - 27s 168ms/step - loss: 0.0090 - accuracy: 0.9975 - val_loss: 0.8370 - val_accuracy: 0.8478\n",
      "Epoch 88/100\n",
      "159/159 [==============================] - 27s 168ms/step - loss: 0.0067 - accuracy: 0.9979 - val_loss: 0.9365 - val_accuracy: 0.8504\n",
      "Epoch 89/100\n",
      "159/159 [==============================] - 27s 168ms/step - loss: 0.0079 - accuracy: 0.9976 - val_loss: 0.9444 - val_accuracy: 0.8448\n",
      "Epoch 90/100\n",
      "159/159 [==============================] - 27s 168ms/step - loss: 0.0073 - accuracy: 0.9979 - val_loss: 0.9366 - val_accuracy: 0.8518\n",
      "Epoch 91/100\n",
      "159/159 [==============================] - 27s 168ms/step - loss: 0.0078 - accuracy: 0.9972 - val_loss: 0.9529 - val_accuracy: 0.8443\n",
      "Epoch 92/100\n",
      "159/159 [==============================] - 27s 168ms/step - loss: 0.0068 - accuracy: 0.9981 - val_loss: 0.9757 - val_accuracy: 0.8516\n",
      "Epoch 93/100\n",
      "159/159 [==============================] - 27s 168ms/step - loss: 0.0050 - accuracy: 0.9984 - val_loss: 0.9947 - val_accuracy: 0.8458\n",
      "Epoch 94/100\n",
      "159/159 [==============================] - 27s 168ms/step - loss: 0.0066 - accuracy: 0.9981 - val_loss: 0.9616 - val_accuracy: 0.8466\n",
      "Epoch 95/100\n",
      "159/159 [==============================] - 27s 168ms/step - loss: 0.0059 - accuracy: 0.9986 - val_loss: 1.0001 - val_accuracy: 0.8518\n",
      "Epoch 96/100\n",
      "159/159 [==============================] - 27s 168ms/step - loss: 0.0065 - accuracy: 0.9980 - val_loss: 0.9651 - val_accuracy: 0.8520\n",
      "Epoch 97/100\n",
      "159/159 [==============================] - 27s 168ms/step - loss: 0.0056 - accuracy: 0.9982 - val_loss: 1.0527 - val_accuracy: 0.8496\n",
      "Epoch 98/100\n",
      "159/159 [==============================] - 27s 168ms/step - loss: 0.0056 - accuracy: 0.9984 - val_loss: 1.0403 - val_accuracy: 0.8498\n",
      "Epoch 99/100\n",
      "159/159 [==============================] - 27s 168ms/step - loss: 0.0061 - accuracy: 0.9983 - val_loss: 1.0207 - val_accuracy: 0.8496\n",
      "Epoch 100/100\n",
      "159/159 [==============================] - 27s 168ms/step - loss: 0.0055 - accuracy: 0.9981 - val_loss: 1.0105 - val_accuracy: 0.8464\n"
     ]
    }
   ],
   "execution_count": 29
  },
  {
   "cell_type": "markdown",
   "id": "b1a7bdf4",
   "metadata": {
    "papermill": {
     "duration": 1.306584,
     "end_time": "2024-05-18T18:34:37.431369",
     "exception": false,
     "start_time": "2024-05-18T18:34:36.124785",
     "status": "completed"
    },
    "tags": []
   },
   "source": [
    "# Plot retraining"
   ]
  },
  {
   "cell_type": "code",
   "id": "c1f36291",
   "metadata": {
    "execution": {
     "iopub.execute_input": "2024-05-18T18:34:40.126708Z",
     "iopub.status.busy": "2024-05-18T18:34:40.125828Z",
     "iopub.status.idle": "2024-05-18T18:34:40.597502Z",
     "shell.execute_reply": "2024-05-18T18:34:40.596568Z"
    },
    "papermill": {
     "duration": 1.857592,
     "end_time": "2024-05-18T18:34:40.600054",
     "exception": false,
     "start_time": "2024-05-18T18:34:38.742462",
     "status": "completed"
    },
    "tags": [],
    "ExecuteTime": {
     "end_time": "2024-09-28T19:52:15.787895Z",
     "start_time": "2024-09-28T19:52:15.539616Z"
    }
   },
   "source": [
    "acc += history_fine.history['accuracy']\n",
    "val_acc += history_fine.history['val_accuracy']\n",
    "\n",
    "loss += history_fine.history['loss']\n",
    "val_loss += history_fine.history['val_loss']\n",
    "\n",
    "plt.figure(figsize=(8, 8))\n",
    "plt.subplot(2, 1, 1)\n",
    "plt.plot(acc, label='Training Accuracy')\n",
    "plt.plot(val_acc, label='Validation Accuracy')\n",
    "plt.ylim([0.7, 1])\n",
    "plt.plot([initial_epochs-1,initial_epochs-1],\n",
    "          plt.ylim(), label='Start Fine Tuning')\n",
    "plt.legend(loc='lower right')\n",
    "plt.title('Training and Validation Accuracy')\n",
    "\n",
    "plt.subplot(2, 1, 2)\n",
    "plt.plot(loss, label='Training Loss')\n",
    "plt.plot(val_loss, label='Validation Loss')\n",
    "plt.ylim([0, 1.0])\n",
    "plt.plot([initial_epochs-1,initial_epochs-1],\n",
    "         plt.ylim(), label='Start Fine Tuning')\n",
    "plt.legend(loc='upper right')\n",
    "plt.title('Training and Validation Loss')\n",
    "plt.xlabel('epoch')\n",
    "plt.show()"
   ],
   "outputs": [
    {
     "data": {
      "text/plain": [
       "<Figure size 800x800 with 2 Axes>"
      ],
      "image/png": "[encoded data removed]"
     },
     "metadata": {},
     "output_type": "display_data"
    }
   ],
   "execution_count": 30
  },
  {
   "cell_type": "markdown",
   "id": "fe28c86d",
   "metadata": {
    "papermill": {
     "duration": 1.334377,
     "end_time": "2024-05-18T18:34:43.319031",
     "exception": false,
     "start_time": "2024-05-18T18:34:41.984654",
     "status": "completed"
    },
    "tags": []
   },
   "source": [
    "# Evaluate training"
   ]
  },
  {
   "cell_type": "code",
   "id": "8e09416e",
   "metadata": {
    "execution": {
     "iopub.execute_input": "2024-05-18T18:34:46.000545Z",
     "iopub.status.busy": "2024-05-18T18:34:45.999719Z",
     "iopub.status.idle": "2024-05-18T18:35:05.366027Z",
     "shell.execute_reply": "2024-05-18T18:35:05.364943Z"
    },
    "papermill": {
     "duration": 20.681105,
     "end_time": "2024-05-18T18:35:05.367876",
     "exception": false,
     "start_time": "2024-05-18T18:34:44.686771",
     "status": "completed"
    },
    "tags": [],
    "ExecuteTime": {
     "end_time": "2024-09-28T19:52:27.062976Z",
     "start_time": "2024-09-28T19:52:20.974753Z"
    }
   },
   "source": [
    "loss, accuracy = model.evaluate(test_dataset)\n",
    "print('Test accuracy :', accuracy)"
   ],
   "outputs": [
    {
     "name": "stdout",
     "output_type": "stream",
     "text": [
      "53/53 [==============================] - 6s 108ms/step - loss: 1.0755 - accuracy: 0.8396\n",
      "Test accuracy : 0.8395500183105469\n"
     ]
    }
   ],
   "execution_count": 31
  },
  {
   "cell_type": "code",
   "id": "de608c74",
   "metadata": {
    "execution": {
     "iopub.execute_input": "2024-05-18T18:35:08.069378Z",
     "iopub.status.busy": "2024-05-18T18:35:08.069046Z",
     "iopub.status.idle": "2024-05-18T18:35:32.438745Z",
     "shell.execute_reply": "2024-05-18T18:35:32.437916Z"
    },
    "papermill": {
     "duration": 25.685507,
     "end_time": "2024-05-18T18:35:32.440738",
     "exception": false,
     "start_time": "2024-05-18T18:35:06.755231",
     "status": "completed"
    },
    "tags": [],
    "ExecuteTime": {
     "end_time": "2024-09-28T19:52:36.117276Z",
     "start_time": "2024-09-28T19:52:29.384618Z"
    }
   },
   "source": [
    "from sklearn.metrics import roc_curve\n",
    "fine_y_pred = model.predict(test_dataset).ravel()\n",
    "fine_fpr, fine_tpr, fine_thresholds = roc_curve(y_test, fine_y_pred)"
   ],
   "outputs": [
    {
     "name": "stdout",
     "output_type": "stream",
     "text": [
      "53/53 [==============================] - 7s 109ms/step\n"
     ]
    }
   ],
   "execution_count": 32
  },
  {
   "cell_type": "code",
   "id": "595a5be9",
   "metadata": {
    "execution": {
     "iopub.execute_input": "2024-05-18T18:35:35.197530Z",
     "iopub.status.busy": "2024-05-18T18:35:35.197171Z",
     "iopub.status.idle": "2024-05-18T18:35:35.202246Z",
     "shell.execute_reply": "2024-05-18T18:35:35.201492Z"
    },
    "papermill": {
     "duration": 1.332618,
     "end_time": "2024-05-18T18:35:35.204024",
     "exception": false,
     "start_time": "2024-05-18T18:35:33.871406",
     "status": "completed"
    },
    "tags": [],
    "ExecuteTime": {
     "end_time": "2024-09-28T19:52:37.229063Z",
     "start_time": "2024-09-28T19:52:37.219063Z"
    }
   },
   "source": [
    "from sklearn.metrics import auc\n",
    "fine_auc_score = auc(fine_fpr, fine_tpr)"
   ],
   "outputs": [],
   "execution_count": 33
  },
  {
   "cell_type": "code",
   "id": "9e612d25",
   "metadata": {
    "execution": {
     "iopub.execute_input": "2024-05-18T18:35:38.030357Z",
     "iopub.status.busy": "2024-05-18T18:35:38.029997Z",
     "iopub.status.idle": "2024-05-18T18:35:38.625775Z",
     "shell.execute_reply": "2024-05-18T18:35:38.624904Z"
    },
    "papermill": {
     "duration": 2.025084,
     "end_time": "2024-05-18T18:35:38.627878",
     "exception": false,
     "start_time": "2024-05-18T18:35:36.602794",
     "status": "completed"
    },
    "tags": [],
    "ExecuteTime": {
     "end_time": "2024-09-28T19:52:38.854334Z",
     "start_time": "2024-09-28T19:52:38.603960Z"
    }
   },
   "source": [
    "plt.figure(1)\n",
    "plt.plot([0, 1], [0, 1], 'k--')\n",
    "plt.plot(fine_fpr, fine_tpr, label='Fine-tuned (area = {:.3f})'.format(fine_auc_score))\n",
    "plt.plot(fpr, tpr, label='Untrained (area = {:.3f})'.format(auc_score))\n",
    "plt.xlabel('False positive rate')\n",
    "plt.ylabel('True positive rate')\n",
    "plt.title('ROC curve')\n",
    "plt.legend(loc='best')\n",
    "plt.show()\n",
    "# Zoom in view of the upper left corner.\n",
    "plt.figure(2)\n",
    "plt.xlim(0, 0.3)\n",
    "plt.ylim(0.7, 1)\n",
    "plt.plot([0, 1], [0, 1], 'k--')\n",
    "plt.plot(fine_fpr, fine_tpr, label='Fine-tuned (area = {:.3f})'.format(fine_auc_score))\n",
    "plt.plot(fpr, tpr, label='Untrained (area = {:.3f})'.format(auc_score))\n",
    "plt.xlabel('False positive rate')\n",
    "plt.ylabel('True positive rate')\n",
    "plt.title('ROC curve (zoomed in at top left)')\n",
    "plt.legend(loc='best')\n",
    "plt.show()"
   ],
   "outputs": [
    {
     "data": {
      "text/plain": [
       "<Figure size 640x480 with 1 Axes>"
      ],
      "image/png": "[encoded data removed]"
     },
     "metadata": {},
     "output_type": "display_data"
    },
    {
     "data": {
      "text/plain": [
       "<Figure size 640x480 with 1 Axes>"
      ],
      "image/png": "[encoded data removed]"
     },
     "metadata": {},
     "output_type": "display_data"
    }
   ],
   "execution_count": 34
  },
  {
   "cell_type": "code",
   "id": "7b532d7b",
   "metadata": {
    "execution": {
     "iopub.execute_input": "2024-05-18T18:35:41.365032Z",
     "iopub.status.busy": "2024-05-18T18:35:41.364655Z",
     "iopub.status.idle": "2024-05-18T18:35:41.370032Z",
     "shell.execute_reply": "2024-05-18T18:35:41.369119Z"
    },
    "papermill": {
     "duration": 1.334553,
     "end_time": "2024-05-18T18:35:41.372001",
     "exception": false,
     "start_time": "2024-05-18T18:35:40.037448",
     "status": "completed"
    },
    "tags": [],
    "ExecuteTime": {
     "end_time": "2024-09-28T19:52:39.658187Z",
     "start_time": "2024-09-28T19:52:39.648177Z"
    }
   },
   "source": [
    "fine_y_pred = tf.where(fine_y_pred < 0.5, 0, 1)"
   ],
   "outputs": [],
   "execution_count": 35
  },
  {
   "cell_type": "code",
   "id": "72186234",
   "metadata": {
    "execution": {
     "iopub.execute_input": "2024-05-18T18:35:44.112646Z",
     "iopub.status.busy": "2024-05-18T18:35:44.112270Z",
     "iopub.status.idle": "2024-05-18T18:35:44.126615Z",
     "shell.execute_reply": "2024-05-18T18:35:44.125511Z"
    },
    "papermill": {
     "duration": 1.345988,
     "end_time": "2024-05-18T18:35:44.128636",
     "exception": false,
     "start_time": "2024-05-18T18:35:42.782648",
     "status": "completed"
    },
    "tags": [],
    "ExecuteTime": {
     "end_time": "2024-09-28T19:52:40.014172Z",
     "start_time": "2024-09-28T19:52:39.993755Z"
    }
   },
   "source": [
    "from sklearn.metrics import classification_report\n",
    "print(classification_report(y_test, fine_y_pred))"
   ],
   "outputs": [
    {
     "name": "stdout",
     "output_type": "stream",
     "text": [
      "              precision    recall  f1-score   support\n",
      "\n",
      "         0.0       0.86      0.89      0.88      3199\n",
      "         1.0       0.80      0.75      0.78      1868\n",
      "\n",
      "    accuracy                           0.84      5067\n",
      "   macro avg       0.83      0.82      0.83      5067\n",
      "weighted avg       0.84      0.84      0.84      5067\n",
      "\n"
     ]
    }
   ],
   "execution_count": 36
  },
  {
   "cell_type": "code",
   "id": "5140a08b",
   "metadata": {
    "execution": {
     "iopub.execute_input": "2024-05-18T18:35:46.920358Z",
     "iopub.status.busy": "2024-05-18T18:35:46.920008Z",
     "iopub.status.idle": "2024-05-18T18:35:46.946531Z",
     "shell.execute_reply": "2024-05-18T18:35:46.945445Z"
    },
    "papermill": {
     "duration": 1.428934,
     "end_time": "2024-05-18T18:35:46.948774",
     "exception": false,
     "start_time": "2024-05-18T18:35:45.519840",
     "status": "completed"
    },
    "tags": [],
    "ExecuteTime": {
     "end_time": "2024-09-28T19:52:40.499687Z",
     "start_time": "2024-09-28T19:52:40.479690Z"
    }
   },
   "source": [
    "from sklearn.metrics import confusion_matrix\n",
    "print(confusion_matrix(y_test, fine_y_pred))"
   ],
   "outputs": [
    {
     "name": "stdout",
     "output_type": "stream",
     "text": [
      "[[2852  347]\n",
      " [ 466 1402]]\n"
     ]
    }
   ],
   "execution_count": 37
  },
  {
   "cell_type": "code",
   "id": "ac21a76a",
   "metadata": {
    "execution": {
     "iopub.execute_input": "2024-05-18T18:35:49.682039Z",
     "iopub.status.busy": "2024-05-18T18:35:49.681671Z",
     "iopub.status.idle": "2024-05-18T18:35:49.999894Z",
     "shell.execute_reply": "2024-05-18T18:35:49.999022Z"
    },
    "papermill": {
     "duration": 1.721788,
     "end_time": "2024-05-18T18:35:50.002980",
     "exception": false,
     "start_time": "2024-05-18T18:35:48.281192",
     "status": "completed"
    },
    "tags": [],
    "ExecuteTime": {
     "end_time": "2024-09-28T19:52:44.793868Z",
     "start_time": "2024-09-28T19:52:43.945197Z"
    }
   },
   "source": [
    "keras.utils.plot_model(model, show_shapes=True)"
   ],
   "outputs": [
    {
     "data": {
      "image/png": "[encoded data removed]",
      "text/plain": [
       "<IPython.core.display.Image object>"
      ]
     },
     "execution_count": 38,
     "metadata": {},
     "output_type": "execute_result"
    }
   ],
   "execution_count": 38
  },
  {
   "metadata": {
    "ExecuteTime": {
     "end_time": "2024-09-28T19:53:21.571140Z",
     "start_time": "2024-09-28T19:53:21.012750Z"
    }
   },
   "cell_type": "code",
   "source": [
    "model.save('EfficientNetV2B0.h5')\n",
    "model.save('EfficientNetV2B0.keras')"
   ],
   "id": "ff90b0dbaf2a71c8",
   "outputs": [],
   "execution_count": 39
  },
  {
   "metadata": {
    "ExecuteTime": {
     "end_time": "2024-09-28T21:22:46.762633Z",
     "start_time": "2024-09-28T21:22:32.635758Z"
    }
   },
   "cell_type": "code",
   "source": [
    "# report the final accuracy\n",
    "print(\"[INFO] evaluating after fine-tuning...\")\n",
    "(loss, accuracy) = model.evaluate(test_dataset)\n",
    "print(\"[INFO] test accuracy: {:.2f}%\".format(accuracy * 100))"
   ],
   "id": "110d8db61c040cc",
   "outputs": [
    {
     "name": "stdout",
     "output_type": "stream",
     "text": [
      "[INFO] evaluating after fine-tuning...\n",
      "53/53 [==============================] - 13s 250ms/step - loss: 1.0755 - accuracy: 0.8396\n",
      "[INFO] test accuracy: 83.96%\n"
     ]
    }
   ],
   "execution_count": 40
  },
  {
   "metadata": {},
   "cell_type": "code",
   "outputs": [],
   "execution_count": null,
   "source": "",
   "id": "447e5fdc479043f5"
  }
 ],
 "metadata": {
  "kaggle": {
   "accelerator": "gpu",
   "dataSources": [
    {
     "datasetId": 679322,
     "sourceId": 1193409,
     "sourceType": "datasetVersion"
    }
   ],
   "dockerImageVersionId": 30699,
   "isGpuEnabled": true,
   "isInternetEnabled": true,
   "language": "python",
   "sourceType": "notebook"
  },
  "kernelspec": {
   "display_name": "Python 3",
   "language": "python",
   "name": "python3"
  },
  "language_info": {
   "codemirror_mode": {
    "name": "ipython",
    "version": 3
   },
   "file_extension": ".py",
   "mimetype": "text/x-python",
   "name": "python",
   "nbconvert_exporter": "python",
   "pygments_lexer": "ipython3",
   "version": "3.10.13"
  },
  "papermill": {
   "default_parameters": {},
   "duration": 6801.286132,
   "end_time": "2024-05-18T18:35:54.575116",
   "environment_variables": {},
   "exception": null,
   "input_path": "__notebook__.ipynb",
   "output_path": "__notebook__.ipynb",
   "parameters": {},
   "start_time": "2024-05-18T16:42:33.288984",
   "version": "2.5.0"
  }
 },
 "nbformat": 4,
 "nbformat_minor": 5
}
